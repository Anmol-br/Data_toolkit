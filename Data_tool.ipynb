{
 "cells": [
  {
   "cell_type": "markdown",
   "id": "05e6a557-eb1c-4223-8db2-aa2472f59cac",
   "metadata": {},
   "source": [
    "1.Demonstrate three different methods for creating identical 2D arrays in NumPy Provide the code for each\n",
    "method and the final output after each method"
   ]
  },
  {
   "cell_type": "code",
   "execution_count": 5,
   "id": "85280e38-7b0a-47d2-97bf-4c44c899c034",
   "metadata": {},
   "outputs": [
    {
     "name": "stdout",
     "output_type": "stream",
     "text": [
      "arr: [[1 2 3]\n",
      " [4 5 6]]\n",
      "arr1: [[1 2 3]\n",
      " [4 5 6]]\n",
      "arr2: [[1. 2. 3.]\n",
      " [4. 5. 6.]]\n"
     ]
    }
   ],
   "source": [
    "\"\"\" There are Three diffrent methods to create 2d identical array in numpy:-\n",
    "1.numpy.array\n",
    "2.numpy.full\n",
    "3.numpy.zeros\"\"\"\n",
    "import numpy as np\n",
    "arr =np.array([[1,2,3],[4,5,6]])\n",
    "print(\"arr:\",arr)\n",
    "arr1= np.full((2,3),[[1,2,3],[4,5,6]])\n",
    "print(\"arr1:\",arr1)\n",
    "arr2=np.zeros((2,3))\n",
    "arr2[0,:]=[1,2,3]\n",
    "arr2[1,:]=[4,5,6]\n",
    "print(\"arr2:\",arr2)"
   ]
  },
  {
   "cell_type": "markdown",
   "id": "97a75c30-ae48-4d17-a3a9-55d23fea04fe",
   "metadata": {},
   "source": [
    "2.Using the Numpy function, generate an array of 100 evenly spaced numbers between 1 and 10 and\n",
    "Reshape that 1D array into a 2D array"
   ]
  },
  {
   "cell_type": "code",
   "execution_count": 6,
   "id": "9b1d183e-aa52-4dd4-b927-116acb21c321",
   "metadata": {},
   "outputs": [
    {
     "name": "stdout",
     "output_type": "stream",
     "text": [
      "arr_1d\n",
      "[ 1.          1.09090909  1.18181818  1.27272727  1.36363636  1.45454545\n",
      "  1.54545455  1.63636364  1.72727273  1.81818182  1.90909091  2.\n",
      "  2.09090909  2.18181818  2.27272727  2.36363636  2.45454545  2.54545455\n",
      "  2.63636364  2.72727273  2.81818182  2.90909091  3.          3.09090909\n",
      "  3.18181818  3.27272727  3.36363636  3.45454545  3.54545455  3.63636364\n",
      "  3.72727273  3.81818182  3.90909091  4.          4.09090909  4.18181818\n",
      "  4.27272727  4.36363636  4.45454545  4.54545455  4.63636364  4.72727273\n",
      "  4.81818182  4.90909091  5.          5.09090909  5.18181818  5.27272727\n",
      "  5.36363636  5.45454545  5.54545455  5.63636364  5.72727273  5.81818182\n",
      "  5.90909091  6.          6.09090909  6.18181818  6.27272727  6.36363636\n",
      "  6.45454545  6.54545455  6.63636364  6.72727273  6.81818182  6.90909091\n",
      "  7.          7.09090909  7.18181818  7.27272727  7.36363636  7.45454545\n",
      "  7.54545455  7.63636364  7.72727273  7.81818182  7.90909091  8.\n",
      "  8.09090909  8.18181818  8.27272727  8.36363636  8.45454545  8.54545455\n",
      "  8.63636364  8.72727273  8.81818182  8.90909091  9.          9.09090909\n",
      "  9.18181818  9.27272727  9.36363636  9.45454545  9.54545455  9.63636364\n",
      "  9.72727273  9.81818182  9.90909091 10.        ]\n",
      "2d array :\n",
      "[[ 1.          1.09090909  1.18181818  1.27272727  1.36363636  1.45454545\n",
      "   1.54545455  1.63636364  1.72727273  1.81818182]\n",
      " [ 1.90909091  2.          2.09090909  2.18181818  2.27272727  2.36363636\n",
      "   2.45454545  2.54545455  2.63636364  2.72727273]\n",
      " [ 2.81818182  2.90909091  3.          3.09090909  3.18181818  3.27272727\n",
      "   3.36363636  3.45454545  3.54545455  3.63636364]\n",
      " [ 3.72727273  3.81818182  3.90909091  4.          4.09090909  4.18181818\n",
      "   4.27272727  4.36363636  4.45454545  4.54545455]\n",
      " [ 4.63636364  4.72727273  4.81818182  4.90909091  5.          5.09090909\n",
      "   5.18181818  5.27272727  5.36363636  5.45454545]\n",
      " [ 5.54545455  5.63636364  5.72727273  5.81818182  5.90909091  6.\n",
      "   6.09090909  6.18181818  6.27272727  6.36363636]\n",
      " [ 6.45454545  6.54545455  6.63636364  6.72727273  6.81818182  6.90909091\n",
      "   7.          7.09090909  7.18181818  7.27272727]\n",
      " [ 7.36363636  7.45454545  7.54545455  7.63636364  7.72727273  7.81818182\n",
      "   7.90909091  8.          8.09090909  8.18181818]\n",
      " [ 8.27272727  8.36363636  8.45454545  8.54545455  8.63636364  8.72727273\n",
      "   8.81818182  8.90909091  9.          9.09090909]\n",
      " [ 9.18181818  9.27272727  9.36363636  9.45454545  9.54545455  9.63636364\n",
      "   9.72727273  9.81818182  9.90909091 10.        ]]\n"
     ]
    }
   ],
   "source": [
    "import numpy as np\n",
    "## using linspace function for  100 evenly spaced numbers between 1 and 10\n",
    "arr_1d=np.linspace(1,10,100)\n",
    "print(\"arr_1d\",)\n",
    "print(arr_1d)\n",
    "## reshaping the 1d array to 2d array\n",
    "arr_2d=arr_1d.reshape((10,10))\n",
    "print(\"2d array :\")\n",
    "print(arr_2d)"
   ]
  },
  {
   "cell_type": "markdown",
   "id": "49062a98-eaf7-4ab5-92c0-39052439fa9a",
   "metadata": {},
   "source": [
    "3. Explain the following terms\n",
    "* The difference in np.array, np.asarray and np.asanyarray\n",
    "* The difference between Deep copy and shallow copy."
   ]
  },
  {
   "cell_type": "code",
   "execution_count": 7,
   "id": "aa2e9202-3a6a-4045-93f1-a774e057dff5",
   "metadata": {},
   "outputs": [
    {
     "name": "stdout",
     "output_type": "stream",
     "text": [
      "[[1 2 3]]\n",
      "[1 2 3]\n",
      "[1 2 3]\n"
     ]
    }
   ],
   "source": [
    "### difference in np.array, np.asarray and np.asanyarray'''\n",
    "###asanyarray:-Convert the input to an ndarray, but pass ndarray subclasses through\n",
    "\n",
    "arr=np. matrix([1,2,3])\n",
    "arr1= np.asanyarray(arr)\n",
    "print(arr1)\n",
    "###np.array:- creates a new array\n",
    "import numpy as np\n",
    "a = [1, 2, 3]\n",
    "arr = np.array(a)\n",
    "print(arr)\n",
    "###np.asarray:-Does not create a copy if the input is already an array of the correct type\n",
    "a = np.array([1, 2, 3])\n",
    "arr = np.asarray(a)\n",
    "print(arr)"
   ]
  },
  {
   "cell_type": "code",
   "execution_count": 8,
   "id": "a22dfa45-ed3c-4f04-a5ce-6c1da433de5f",
   "metadata": {},
   "outputs": [
    {
     "name": "stdout",
     "output_type": "stream",
     "text": [
      "shallow_copy [[1, 2, 3], [4, 5, 6]]\n",
      "deep_copy: [[1, 2, 3], [4, 5, 6]]\n"
     ]
    }
   ],
   "source": [
    "##The difference between Deep copy and shallow copy.\n",
    "## Shallow copy:-\n",
    "''' creates a new object , but does not create the copy of the object.\n",
    "    create by using copy module's copy function'''\n",
    "import copy\n",
    "a= [[1, 2, 3], [4, 5, 6]]\n",
    "shallow_copy=copy.copy(a)\n",
    "print(\"shallow_copy\",shallow_copy)\n",
    "## Deep copy :-\n",
    "'''Deep copy creates new object , and copy all objects from the original data .\n",
    " changes made to deep copy doen not make changes in original object.\n",
    " creates using copy module's deepcopy function.'''\n",
    "b=[[1, 2, 3], [4, 5, 6]]\n",
    "deep_copy=copy.deepcopy(b)\n",
    "print(\"deep_copy:\",deep_copy)"
   ]
  },
  {
   "cell_type": "markdown",
   "id": "af25e995-5eb5-4b6e-88b8-1476b05405cf",
   "metadata": {},
   "source": [
    "4. Generate a 3*3 array with random floating-point numbers between 5 and 20 then, round each number in\n",
    "the array to 2 decimal places"
   ]
  },
  {
   "cell_type": "code",
   "execution_count": 9,
   "id": "73bf281d-5dbd-420e-a57d-15e56c96ec12",
   "metadata": {},
   "outputs": [
    {
     "name": "stdout",
     "output_type": "stream",
     "text": [
      "array: [[19.89459192 11.95585688 14.87725716]\n",
      " [ 6.82961335  9.68141289 12.08535365]\n",
      " [ 6.1867432  17.4829438   7.24444893]]\n",
      "rounded array is: [[19.89 11.96 14.88]\n",
      " [ 6.83  9.68 12.09]\n",
      " [ 6.19 17.48  7.24]]\n"
     ]
    }
   ],
   "source": [
    "## creating a array between 5 and 20\n",
    "arr1=np.random.uniform(5,21,size=(3,3))\n",
    "print(\"array:\",arr1)\n",
    "## rounding the array to 2 decimal places\n",
    "rounded_array=np.round(arr1,2)\n",
    "print(\"rounded array is:\",rounded_array)"
   ]
  },
  {
   "cell_type": "markdown",
   "id": "8937a2e2-f061-4342-9be5-d980f582476f",
   "metadata": {},
   "source": [
    "5. Create a NumPy array with random integers between 1 and 10 of shape (5, 6). After creating the array\n",
    "perform the following operations:\n",
    "\n",
    "a)Extract all even integers from array.\n",
    "\n",
    "b)Extract all odd integers from array"
   ]
  },
  {
   "cell_type": "code",
   "execution_count": 10,
   "id": "f2d50a51-a5dc-4fb4-baea-d4c8d05ad752",
   "metadata": {},
   "outputs": [
    {
     "name": "stdout",
     "output_type": "stream",
     "text": [
      "array:\n",
      "[[ 7  7  3  6  5  6]\n",
      " [ 1  1  7  6  8 10]\n",
      " [10  3  7  8  6  4]\n",
      " [ 2  1  4  3  4  8]\n",
      " [ 3  2  7  4  1  7]]\n",
      "even integers in array are;\n",
      "[ 6  6  6  8 10 10  8  6  4  2  4  4  8  2  4]\n",
      "array:\n",
      "[[ 7  7  3  6  5  6]\n",
      " [ 1  1  7  6  8 10]\n",
      " [10  3  7  8  6  4]\n",
      " [ 2  1  4  3  4  8]\n",
      " [ 3  2  7  4  1  7]]\n",
      "odd integers in array are;\n",
      "[7 7 3 5 1 1 7 3 7 1 3 3 7 1 7]\n"
     ]
    }
   ],
   "source": [
    "## creating array with random integers between 1 and 10\n",
    "arr = np.random.randint(1, 11, size=(5, 6))\n",
    "## extracting even integers from array\n",
    "even_integers=arr[arr%2==0]\n",
    "print(\"array:\")\n",
    "print(arr)\n",
    "print(\"even integers in array are;\")\n",
    "print(even_integers)\n",
    "## extracting odd integers from array\n",
    "odd_integers=arr[arr%2!=0]\n",
    "print(\"array:\")\n",
    "print(arr)\n",
    "print(\"odd integers in array are;\")\n",
    "print(odd_integers)"
   ]
  },
  {
   "cell_type": "markdown",
   "id": "1ac130f5-4d87-4526-96f7-1c2cf2fd90d2",
   "metadata": {},
   "source": [
    "6.Create a 3D NumPy array of shape (3,3,3) containing random integers between 1 and 10 Perform the\n",
    "following operations:\n",
    "\n",
    " a) Find the indices of the maximum values along each depth level (third axis)."
   ]
  },
  {
   "cell_type": "code",
   "execution_count": 11,
   "id": "9798deec-da9b-4d3e-b0dd-e3b33ac32b4a",
   "metadata": {},
   "outputs": [
    {
     "name": "stdout",
     "output_type": "stream",
     "text": [
      "[[[ 7  9  7]\n",
      "  [ 3  7  7]\n",
      "  [ 5  6  7]]\n",
      "\n",
      " [[ 4 10  5]\n",
      "  [ 1  8  6]\n",
      "  [ 7 10  8]]\n",
      "\n",
      " [[ 8  1  8]\n",
      "  [ 5  9  1]\n",
      "  [ 4  2  8]]]\n",
      "Indices of Maximum Values along each Depth Level:\n",
      "[[1 1 2]\n",
      " [1 1 1]\n",
      " [0 1 2]]\n"
     ]
    }
   ],
   "source": [
    "## creating array with random integers between 1 and 10\n",
    "arr = np.random.randint(1, 11, size=(3,3,3))\n",
    "print(arr)\n",
    "\n",
    "## finding indices of maximum values\n",
    "\n",
    "max_indices = np.argmax(arr, axis=2)\n",
    "print(\"Indices of Maximum Values along each Depth Level:\")\n",
    "print(max_indices)"
   ]
  },
  {
   "cell_type": "markdown",
   "id": "2923ff62-49cf-4f98-a914-b96c7a205133",
   "metadata": {},
   "source": [
    "(b) Perform elementwise multiplication of between both arrayX"
   ]
  },
  {
   "cell_type": "code",
   "execution_count": 12,
   "id": "b6feab97-ad58-4977-817d-dc60d6bcef45",
   "metadata": {},
   "outputs": [
    {
     "name": "stdout",
     "output_type": "stream",
     "text": [
      "[[[ 7  9  7]\n",
      "  [ 3  7  7]\n",
      "  [10 12 14]]\n",
      "\n",
      " [[ 4 10  5]\n",
      "  [ 1  8  6]\n",
      "  [ 7 10  8]]\n",
      "\n",
      " [[ 0  0  0]\n",
      "  [ 5  9  1]\n",
      "  [ 8  4 16]]]\n"
     ]
    }
   ],
   "source": [
    "expanded_max_indices = max_indices[:, :, np.newaxis]\n",
    "arr2=arr * expanded_max_indices\n",
    "print(arr2)"
   ]
  },
  {
   "cell_type": "markdown",
   "id": "8971f681-ae82-4bcb-a2dc-93eb0a26f7b4",
   "metadata": {},
   "source": [
    "7. Clean and transform the 'Phone' column in the sample dataset to remove non-numeric characters and\n",
    "convert it to a numeric data type Also display the taPle attributes and data types of each column"
   ]
  },
  {
   "cell_type": "code",
   "execution_count": 13,
   "id": "40cbcb1e-c74c-4546-84c8-fc592bf05797",
   "metadata": {},
   "outputs": [
    {
     "name": "stdout",
     "output_type": "stream",
     "text": [
      "<class 'pandas.core.frame.DataFrame'>\n",
      "RangeIndex: 1000 entries, 0 to 999\n",
      "Data columns (total 10 columns):\n",
      " #   Column         Non-Null Count  Dtype  \n",
      "---  ------         --------------  -----  \n",
      " 0   Index          1000 non-null   int64  \n",
      " 1   User Id        1000 non-null   object \n",
      " 2   First Name     1000 non-null   object \n",
      " 3   Last Name      1000 non-null   object \n",
      " 4   Gender         1000 non-null   object \n",
      " 5   Email          1000 non-null   object \n",
      " 6   Phone          105 non-null    float64\n",
      " 7   Date of birth  1000 non-null   object \n",
      " 8   Job Title      1000 non-null   object \n",
      " 9   Salary         1000 non-null   int64  \n",
      "dtypes: float64(1), int64(2), object(7)\n",
      "memory usage: 78.3+ KB\n",
      "None\n"
     ]
    }
   ],
   "source": [
    "import pandas as pd\n",
    "import numpy as np\n",
    "data=pd.read_csv(\"C:\\\\Users\\\\naiti\\\\OneDrive\\\\Desktop\\\\Data_Toolkit\\\\Datatool.csv\")\n",
    "data['Phone'] = data['Phone'].str.replace(r'\\D', '')\n",
    "data['Phone'] = pd.to_numeric(data['Phone'], errors='coerce')\n",
    "\n",
    "print(data.info())"
   ]
  },
  {
   "cell_type": "markdown",
   "id": "368c21d9",
   "metadata": {},
   "source": [
    "8. Perform the following tasks using people dataset:\n",
    "\n",
    " a) Read the 'data.csv' file using pandas, skipping the first 50 rows"
   ]
  },
  {
   "cell_type": "code",
   "execution_count": 14,
   "id": "aed3bcbe-d305-44bb-a72c-d8aa424ef822",
   "metadata": {},
   "outputs": [
    {
     "name": "stdout",
     "output_type": "stream",
     "text": [
      "<class 'pandas.core.frame.DataFrame'>\n",
      "RangeIndex: 950 entries, 0 to 949\n",
      "Data columns (total 10 columns):\n",
      " #   Column                        Non-Null Count  Dtype \n",
      "---  ------                        --------------  ----- \n",
      " 0   50                            950 non-null    int64 \n",
      " 1   afF3018e9cdd1dA               950 non-null    object\n",
      " 2   George                        950 non-null    object\n",
      " 3   Mercer                        950 non-null    object\n",
      " 4   Female                        950 non-null    object\n",
      " 5   douglascontreras@example.net  950 non-null    object\n",
      " 6   +1-326-669-0118x4341          935 non-null    object\n",
      " 7   11-09-1941                    950 non-null    object\n",
      " 8   Human resources officer       950 non-null    object\n",
      " 9   70000                         950 non-null    int64 \n",
      "dtypes: int64(2), object(8)\n",
      "memory usage: 74.3+ KB\n",
      "None\n"
     ]
    }
   ],
   "source": [
    "df= pd.read_csv(\"C:\\\\Users\\\\naiti\\\\OneDrive\\\\Desktop\\\\Data_Toolkit\\\\Datatool.csv\",skiprows=50)\n",
    "print(df.info())"
   ]
  },
  {
   "cell_type": "markdown",
   "id": "2d435e83",
   "metadata": {},
   "source": [
    " b) Only read the columns: 'Last Name', ‘Gender’,’Email’,‘Phone’ and ‘Salary’ from the file."
   ]
  },
  {
   "cell_type": "code",
   "execution_count": 15,
   "id": "1088391d",
   "metadata": {},
   "outputs": [
    {
     "name": "stdout",
     "output_type": "stream",
     "text": [
      "<class 'pandas.core.frame.DataFrame'>\n",
      "RangeIndex: 1000 entries, 0 to 999\n",
      "Data columns (total 5 columns):\n",
      " #   Column     Non-Null Count  Dtype \n",
      "---  ------     --------------  ----- \n",
      " 0   Last Name  1000 non-null   object\n",
      " 1   Gender     1000 non-null   object\n",
      " 2   Email      1000 non-null   object\n",
      " 3   Phone      979 non-null    object\n",
      " 4   Salary     1000 non-null   int64 \n",
      "dtypes: int64(1), object(4)\n",
      "memory usage: 39.2+ KB\n",
      "None\n"
     ]
    }
   ],
   "source": [
    "import pandas as pd\n",
    "\n",
    "data = pd.read_csv(\"C:\\\\Users\\\\naiti\\\\OneDrive\\\\Desktop\\\\Data_Toolkit\\\\Datatool.csv\", usecols=['Last Name', 'Gender', 'Email', 'Phone', 'Salary'])\n",
    "\n",
    "print(data.info())"
   ]
  },
  {
   "cell_type": "markdown",
   "id": "b2d237d8",
   "metadata": {},
   "source": [
    "c) Display the first 10 rows of the filtered dataset."
   ]
  },
  {
   "cell_type": "code",
   "execution_count": 16,
   "id": "3408ba3a",
   "metadata": {},
   "outputs": [
    {
     "name": "stdout",
     "output_type": "stream",
     "text": [
      "  Last Name  Gender                          Email               Phone  Salary\n",
      "0   Mahoney    Male            pwarner@example.org        857.139.8239   90000\n",
      "1    Rivers  Female  fergusonkatherine@example.net                 NaN   80000\n",
      "2    Lowery  Female            fhoward@example.org       (599)782-0605   50000\n",
      "3    Hooper    Male          zjohnston@example.com                 NaN   65000\n",
      "4      Rice  Female               elin@example.net  (390)417-1635x3010  100000\n",
      "5  Caldwell    Male          kaitlin13@example.net          8537800927   50000\n",
      "6   Hoffman    Male         jeffharvey@example.com   093.655.7480x7895   60000\n",
      "7  Andersen    Male           alicia33@example.org          4709522945   65000\n",
      "8      Mays    Male             jake50@example.com        013.820.4758   50000\n",
      "9  Mitchell    Male      lanechristina@example.net  (560)903-5068x4985   50000\n"
     ]
    }
   ],
   "source": [
    "print(data.head(10))"
   ]
  },
  {
   "cell_type": "markdown",
   "id": "7d2f158f",
   "metadata": {},
   "source": [
    " d) Extract the ‘Salary’' column as a Series and display its last 5 values"
   ]
  },
  {
   "cell_type": "code",
   "execution_count": 17,
   "id": "84c4dbc1",
   "metadata": {},
   "outputs": [
    {
     "name": "stdout",
     "output_type": "stream",
     "text": [
      "995     90000\n",
      "996     50000\n",
      "997     60000\n",
      "998    100000\n",
      "999     90000\n",
      "Name: Salary, dtype: int64\n"
     ]
    }
   ],
   "source": [
    "df= pd.read_csv(\"C:\\\\Users\\\\naiti\\\\OneDrive\\\\Desktop\\\\Data_Toolkit\\\\Datatool.csv\")\n",
    "salaries =df[\"Salary\"]\n",
    "print(salaries.tail(5))"
   ]
  },
  {
   "cell_type": "markdown",
   "id": "ee60dd0c",
   "metadata": {},
   "source": [
    "9. Filter and select rows from the People_Dataset, where the “Last Name' column contains the name 'Duke',\n",
    "'Gender' column contains the word Female and ‘Salary’ should be less than 85000."
   ]
  },
  {
   "cell_type": "code",
   "execution_count": 18,
   "id": "894145e9",
   "metadata": {},
   "outputs": [
    {
     "name": "stdout",
     "output_type": "stream",
     "text": [
      "     Index          User Id First Name Last Name  Gender  \\\n",
      "45      46  99A502C175C4EBd     Olivia      Duke  Female   \n",
      "210    211  DF17975CC0a0373    Katrina      Duke  Female   \n",
      "457    458  dcE1B7DE83c1076      Traci      Duke  Female   \n",
      "729    730  c9b482D7aa3e682     Lonnie      Duke  Female   \n",
      "\n",
      "                        Email                   Phone Date of birth  \\\n",
      "45        diana26@example.net  001-366-475-8607x04350    13-10-1934   \n",
      "210       robin78@example.com            740.434.0212    21-09-1935   \n",
      "457  perryhoffman@example.org     +1-903-596-0995x489    11-02-1997   \n",
      "729   kevinkramer@example.net            982.692.6257    12-05-2015   \n",
      "\n",
      "           Job Title  Salary  \n",
      "45           Dentist   60000  \n",
      "210  Producer, radio   50000  \n",
      "457        Herbalist   50000  \n",
      "729     Nurse, adult   70000  \n"
     ]
    }
   ],
   "source": [
    "data_1 = df[(df['Last Name'].str.contains(\"Duke\")) & (df['Gender'] == \"Female\") & (df[\"Salary\"] < 85000)]\n",
    "print(data_1)"
   ]
  },
  {
   "cell_type": "markdown",
   "id": "8d63a9d1",
   "metadata": {},
   "source": [
    "10.Create a 7*5 Dataframe in Pandas using a series generated from 35 random integers between 1 to 6"
   ]
  },
  {
   "cell_type": "code",
   "execution_count": 19,
   "id": "dfa08ec1",
   "metadata": {},
   "outputs": [
    {
     "name": "stdout",
     "output_type": "stream",
     "text": [
      "[[3 2 1 1 6]\n",
      " [5 1 6 3 6]\n",
      " [2 3 3 4 1]\n",
      " [2 1 6 2 1]\n",
      " [6 6 3 6 3]\n",
      " [1 5 2 2 6]\n",
      " [2 2 5 1 2]]\n"
     ]
    }
   ],
   "source": [
    "import pandas as pd\n",
    "s = np.random.randint(1, 7, size=35)\n",
    "data1= s.reshape((7, 5))\n",
    "print(data1)"
   ]
  },
  {
   "cell_type": "markdown",
   "id": "1ab379d0",
   "metadata": {},
   "source": [
    "11.Create two different Series, each of length 50, with the following criteria:\n",
    "\n",
    "a) The first Series should contain random numbers ranging from 10 to 50.\n",
    "\n",
    "b) The second Series should contain random numbers ranging from 100 to 1000.\n",
    "\n",
    "c) Create a DataFrame by 'oining these Series by column, and, change the names of the columns to 'col1', 'col2',\n",
    "etc&"
   ]
  },
  {
   "cell_type": "code",
   "execution_count": 20,
   "id": "4a219873",
   "metadata": {},
   "outputs": [
    {
     "name": "stdout",
     "output_type": "stream",
     "text": [
      "series1: 0     22\n",
      "1     44\n",
      "2     22\n",
      "3     40\n",
      "4     13\n",
      "5     16\n",
      "6     40\n",
      "7     23\n",
      "8     44\n",
      "9     12\n",
      "10    26\n",
      "11    22\n",
      "12    38\n",
      "13    10\n",
      "14    29\n",
      "15    50\n",
      "16    12\n",
      "17    33\n",
      "18    22\n",
      "19    40\n",
      "20    23\n",
      "21    40\n",
      "22    10\n",
      "23    23\n",
      "24    23\n",
      "25    47\n",
      "26    23\n",
      "27    30\n",
      "28    11\n",
      "29    40\n",
      "30    15\n",
      "31    34\n",
      "32    30\n",
      "33    30\n",
      "34    42\n",
      "35    13\n",
      "36    34\n",
      "37    13\n",
      "38    37\n",
      "39    22\n",
      "40    44\n",
      "41    50\n",
      "42    10\n",
      "43    42\n",
      "44    45\n",
      "45    12\n",
      "46    35\n",
      "47    44\n",
      "48    25\n",
      "49    11\n",
      "dtype: int32\n",
      "series2: 0     153\n",
      "1     710\n",
      "2     567\n",
      "3     932\n",
      "4     945\n",
      "5     380\n",
      "6     667\n",
      "7     951\n",
      "8     312\n",
      "9     778\n",
      "10    289\n",
      "11    845\n",
      "12    301\n",
      "13    841\n",
      "14    100\n",
      "15    666\n",
      "16    973\n",
      "17    952\n",
      "18    556\n",
      "19    141\n",
      "20    896\n",
      "21    492\n",
      "22    674\n",
      "23    948\n",
      "24    881\n",
      "25    984\n",
      "26    485\n",
      "27    759\n",
      "28    152\n",
      "29    387\n",
      "30    969\n",
      "31    303\n",
      "32    880\n",
      "33    414\n",
      "34    584\n",
      "35    991\n",
      "36    451\n",
      "37    147\n",
      "38    196\n",
      "39    651\n",
      "40    116\n",
      "41    356\n",
      "42    860\n",
      "43    842\n",
      "44    245\n",
      "45    378\n",
      "46    598\n",
      "47    532\n",
      "48    979\n",
      "49    260\n",
      "dtype: int32\n",
      "DataFrame:\n",
      "    col1  col2\n",
      "0     22   153\n",
      "1     44   710\n",
      "2     22   567\n",
      "3     40   932\n",
      "4     13   945\n",
      "5     16   380\n",
      "6     40   667\n",
      "7     23   951\n",
      "8     44   312\n",
      "9     12   778\n",
      "10    26   289\n",
      "11    22   845\n",
      "12    38   301\n",
      "13    10   841\n",
      "14    29   100\n",
      "15    50   666\n",
      "16    12   973\n",
      "17    33   952\n",
      "18    22   556\n",
      "19    40   141\n",
      "20    23   896\n",
      "21    40   492\n",
      "22    10   674\n",
      "23    23   948\n",
      "24    23   881\n",
      "25    47   984\n",
      "26    23   485\n",
      "27    30   759\n",
      "28    11   152\n",
      "29    40   387\n",
      "30    15   969\n",
      "31    34   303\n",
      "32    30   880\n",
      "33    30   414\n",
      "34    42   584\n",
      "35    13   991\n",
      "36    34   451\n",
      "37    13   147\n",
      "38    37   196\n",
      "39    22   651\n",
      "40    44   116\n",
      "41    50   356\n",
      "42    10   860\n",
      "43    42   842\n",
      "44    45   245\n",
      "45    12   378\n",
      "46    35   598\n",
      "47    44   532\n",
      "48    25   979\n",
      "49    11   260\n"
     ]
    }
   ],
   "source": [
    "a1 = pd.Series(np.random.randint(10, 51,50))\n",
    "a2 = pd.Series(np.random.randint(100, 1000,50))\n",
    "print(\"series1:\",a1)\n",
    "print(\"series2:\",a2)\n",
    "df = pd.DataFrame({'col1': a1, 'col2': a2})\n",
    "\n",
    "print(\"DataFrame:\")\n",
    "print(df)"
   ]
  },
  {
   "cell_type": "markdown",
   "id": "3161feb0",
   "metadata": {},
   "source": [
    "12.Perform the following operations using people data set:\n",
    "\n",
    "a) Delete the 'Email', 'Phone', and 'Date of birth' columns from the dataset.\n",
    "\n",
    "b) Delete the rows containing any missing values.\n",
    "\n",
    "d) Print the final output also"
   ]
  },
  {
   "cell_type": "code",
   "execution_count": 21,
   "id": "c3ca5a6f",
   "metadata": {},
   "outputs": [
    {
     "name": "stdout",
     "output_type": "stream",
     "text": [
      "     Index          User Id First Name Last Name  Gender  \\\n",
      "0        1  8717bbf45cCDbEe     Shelia   Mahoney    Male   \n",
      "1        2  3d5AD30A4cD38ed         Jo    Rivers  Female   \n",
      "2        3  810Ce0F276Badec     Sheryl    Lowery  Female   \n",
      "3        4  BF2a889C00f0cE1    Whitney    Hooper    Male   \n",
      "4        5  9afFEafAe1CBBB9    Lindsey      Rice  Female   \n",
      "..     ...              ...        ...       ...     ...   \n",
      "995    996  fedF4c7Fd9e7cFa       Kurt    Bryant  Female   \n",
      "996    997  ECddaFEDdEc4FAB      Donna     Barry  Female   \n",
      "997    998  2adde51d8B8979E      Cathy  Mckinney  Female   \n",
      "998    999  Fb2FE369D1E171A   Jermaine    Phelps    Male   \n",
      "999   1000  8b756f6231DDC6e        Lee      Tran  Female   \n",
      "\n",
      "                           Job Title  Salary  \n",
      "0                  Probation officer   90000  \n",
      "1                             Dancer   80000  \n",
      "2                               Copy   50000  \n",
      "3           Counselling psychologist   65000  \n",
      "4                Biomedical engineer  100000  \n",
      "..                               ...     ...  \n",
      "995                Personnel officer   90000  \n",
      "996          Education administrator   50000  \n",
      "997  Commercial/residential surveyor   60000  \n",
      "998                 Ambulance person  100000  \n",
      "999       Nurse, learning disability   90000  \n",
      "\n",
      "[1000 rows x 7 columns]\n"
     ]
    }
   ],
   "source": [
    "df = pd.read_csv(\"C:\\\\Users\\\\naiti\\\\OneDrive\\\\Desktop\\\\Data_Toolkit\\\\Datatool.csv\")\n",
    "df.drop(columns=['Email', 'Phone', 'Date of birth'], inplace=True)\n",
    "df.dropna(inplace=True)\n",
    "print(df)"
   ]
  },
  {
   "cell_type": "markdown",
   "id": "6969d88b",
   "metadata": {},
   "source": [
    "13. Create two NumPy arrays, x and y, each containing 100 random float values between 0 and 1. Perform the\n",
    "following tasks using Matplotlib and NumPy:\n",
    "\n",
    "a) Create a scatter plot using x and y, setting the color of the points to red and the marker style to 'o'.\n",
    "\n",
    "b) Add a horizontal line at y = 0.5 using a dashed line style and label it as 'y = 0.5'.\n",
    "\n",
    "c) Add a vertical line at x = 0.5 using a dotted line style and label it as 'x = 0.5'.\n",
    "\n",
    "d) Label the x-axis as 'X-axis' and the y-axis as 'Y-axis'.\n",
    "\n",
    "e) Set the title of the plot as 'Advanced Scatter Plot of Random Values'.\n",
    "\n",
    "f) Display a legend for the scatter plot, the horizontal line, and the vertical line."
   ]
  },
  {
   "cell_type": "code",
   "execution_count": 22,
   "id": "fd0a9c12",
   "metadata": {},
   "outputs": [
    {
     "name": "stdout",
     "output_type": "stream",
     "text": [
      "array1: [0.05857902 0.73884404 0.62048555 0.51010787 0.8712569  0.79773109\n",
      " 0.6845247  0.67023932 0.26619926 0.48551139 0.73001846 0.1504389\n",
      " 0.79695617 0.66741685 0.31884763 0.77752047 0.72699543 0.7714872\n",
      " 0.52110618 0.33730676 0.96223349 0.67952688 0.7463876  0.4593876\n",
      " 0.40433844 0.69620671 0.76610892 0.67892843 0.56521995 0.04526224\n",
      " 0.76000088 0.24893096 0.9826009  0.95831439 0.89889536 0.57958785\n",
      " 0.84118243 0.45097443 0.21885614 0.49520286 0.67736552 0.82598754\n",
      " 0.25848127 0.89184995 0.96438366 0.46610465 0.8552137  0.78803182\n",
      " 0.53024645 0.00190772 0.97029492 0.43435809 0.38694203 0.80052109\n",
      " 0.51694029 0.68074968 0.53812922 0.83268669 0.758277   0.46891215\n",
      " 0.25423959 0.90559629 0.93167195 0.87015762 0.67448226 0.31809552\n",
      " 0.80912682 0.69430897 0.96962784 0.9197851  0.27416345 0.37131637\n",
      " 0.69036407 0.40266024 0.70205246 0.50699375 0.2509705  0.88828553\n",
      " 0.62430184 0.48893886 0.07844647 0.86007867 0.8835238  0.43092169\n",
      " 0.44885451 0.94274153 0.72240039 0.9782219  0.79999188 0.36623726\n",
      " 0.91028018 0.05227835 0.90360008 0.27401249 0.31736491 0.22197633\n",
      " 0.1354606  0.33950391 0.92226192 0.46584407]\n",
      "array2: [0.42404059 0.40728353 0.01745944 0.88198248 0.37599232 0.46905621\n",
      " 0.93099563 0.29474998 0.53767931 0.63751359 0.42547374 0.32902405\n",
      " 0.91895501 0.34562995 0.3746115  0.98289024 0.81618632 0.49595145\n",
      " 0.20990105 0.10539211 0.90463942 0.86572233 0.03312556 0.99042437\n",
      " 0.24040217 0.48481355 0.11536653 0.5329447  0.58462826 0.2279388\n",
      " 0.28668839 0.27670093 0.78182837 0.76718434 0.81671116 0.28464449\n",
      " 0.20743708 0.0483857  0.49050073 0.42933364 0.68450733 0.60774105\n",
      " 0.62059998 0.93502662 0.46231314 0.90456091 0.60391426 0.85124035\n",
      " 0.1875803  0.72800613 0.94531484 0.86897237 0.23848431 0.75760967\n",
      " 0.5572863  0.7576925  0.50541891 0.21448903 0.01233779 0.0948694\n",
      " 0.06191244 0.06685502 0.41617655 0.55521776 0.83622273 0.9581286\n",
      " 0.98564963 0.34284634 0.09421107 0.67440547 0.5256915  0.05417242\n",
      " 0.27565592 0.19774618 0.2050196  0.33638496 0.40161635 0.17394537\n",
      " 0.80513911 0.82555406 0.84655816 0.80233603 0.60763633 0.6256073\n",
      " 0.28032639 0.51865038 0.77552136 0.37064223 0.96712467 0.57424052\n",
      " 0.25707646 0.51774603 0.59989394 0.71482204 0.74015281 0.44364\n",
      " 0.92646516 0.12916626 0.0113166  0.54307485]\n"
     ]
    },
    {
     "data": {
      "text/plain": [
       "<function matplotlib.pyplot.show(close=None, block=None)>"
      ]
     },
     "execution_count": 22,
     "metadata": {},
     "output_type": "execute_result"
    },
    {
     "data": {
      "image/png": "[encoded data removed]",
      "text/plain": [
       "<Figure size 640x480 with 1 Axes>"
      ]
     },
     "metadata": {},
     "output_type": "display_data"
    }
   ],
   "source": [
    "import numpy as np\n",
    "import pandas as pd\n",
    "import matplotlib.pyplot as plt\n",
    "a=np.random.rand(100)\n",
    "b=np.random.rand(100)\n",
    "print(\"array1:\",a)\n",
    "print(\"array2:\",b)\n",
    "## scatter lot using x and y, setting the color of the points to red and the marker style to 'o'.\n",
    "plt.scatter(a,b,c=\"red\",marker=\"o\")\n",
    "##adding horizontal and vertical line\n",
    "plt.axhline(y=0.5, color='blue', linestyle='--', label='y = 0.5')\n",
    "plt.axvline(x=0.5, color='blue', linestyle=':', label='x = 0.5')\n",
    "## Label the x-axis as 'X-axis' and the y-axis as 'Y-axis'.\n",
    "plt.xlabel('X-axis')\n",
    "plt.ylabel('Y-axis')\n",
    "## Set the title of the lot as 'Advanced Scatter Plot of Random Values'.\n",
    "plt.title('Advanced Scatter Plot of Random Values')\n",
    "## legend for the scatter lot, the horizontal line, and the vertical line\n",
    "plt.legend()\n",
    "plt.show"
   ]
  },
  {
   "cell_type": "markdown",
   "id": "95618b11",
   "metadata": {},
   "source": [
    "14. Create a time-series dataset in a Pandas DataFrame with columns: 'Date', 'Temperature', 'Humidity' and\n",
    "Perform the following tasks using Matplotlib:\n",
    "a) Plot the 'Temperature' and 'Humidity' on the same plot with different y-axes (left y-axis for 'Temperature' and\n",
    "right y-axis for 'Humidity').\n",
    "\n",
    "b) Label the x-axis as 'Date'.\n",
    "\n",
    "c) Set the title of the plot as 'Temperature and Humidity Over Time'."
   ]
  },
  {
   "cell_type": "code",
   "execution_count": 23,
   "id": "bdb0fca1",
   "metadata": {},
   "outputs": [
    {
     "name": "stdout",
     "output_type": "stream",
     "text": [
      "        Date  Temperature  Humidity\n",
      "0 2024-01-01            0        90\n",
      "1 2024-01-02           30        10\n",
      "2 2024-01-03           71        59\n",
      "3 2024-01-04           36        82\n",
      "4 2024-01-05           51        42\n",
      "5 2024-01-06           18        17\n",
      "6 2024-01-07           80        83\n",
      "7 2024-01-08           55        97\n",
      "8 2024-01-09           39         7\n",
      "9 2024-01-10            3        53\n"
     ]
    },
    {
     "data": {
      "image/png": "[encoded data removed]",
      "text/plain": [
       "<Figure size 640x480 with 2 Axes>"
      ]
     },
     "metadata": {},
     "output_type": "display_data"
    }
   ],
   "source": [
    "import matplotlib.pyplot as plt\n",
    "date_range = pd.date_range(start='1/1/2024', end='1/10/2024')\n",
    "\n",
    "# Create a DataFrame with random temperature and humidity values\n",
    "df = pd.DataFrame({\n",
    "    'Date': date_range,\n",
    "    'Temperature': np.random.randint(0, 100, size=len(date_range)),\n",
    "    'Humidity': np.random.randint(0, 100, size=len(date_range))})\n",
    "print(df)\n",
    "fig, ax1 = plt.subplots()\n",
    "# Plot the Temperature on the left y-axis\n",
    "ax1.plot(df['Date'], df['Temperature'], 'b-')\n",
    "ax1.set_xlabel('Date')\n",
    "ax1.set_ylabel('Temperature (°C)', color='b')\n",
    "ax1.tick_params('y', colors='b')\n",
    "# Create a second axis object that shares the same x-axis\n",
    "ax2 = ax1.twinx()\n",
    "\n",
    "# Plot the Humidity on the right y-axis\n",
    "ax2.plot(df['Date'], df['Humidity'], 'r-')\n",
    "ax2.set_ylabel('Humidity (%)', color='r')\n",
    "ax2.tick_params('y', colors='r')\n",
    "\n",
    "# Set the title of the plot\n",
    "fig.tight_layout()\n",
    "plt.title('Temperature and Humidity Over Time')\n",
    "\n",
    "# Show the plot\n",
    "plt.show()"
   ]
  },
  {
   "cell_type": "markdown",
   "id": "980534ac",
   "metadata": {},
   "source": [
    "15. Create a NumPy array data containing 1000 samples from a normal distribution. Perform the following\n",
    "tasks using Matplotlib:\n",
    "a) Plot a histogram of the data with 30 bins.\n",
    "\n",
    "b) Overlay a line plot representing the normal distribution's probability density function (PDF).\n",
    "\n",
    "c) Label the x-axis as 'Value' and the y-axis as 'Frequency/Probability'.\n",
    "\n",
    "d) Set the title of the plot as 'Histogram with PDF Overlay'."
   ]
  },
  {
   "cell_type": "code",
   "execution_count": 24,
   "id": "8a1d7d57",
   "metadata": {},
   "outputs": [
    {
     "data": {
      "image/png": "[encoded data removed]",
      "text/plain": [
       "<Figure size 640x480 with 1 Axes>"
      ]
     },
     "metadata": {},
     "output_type": "display_data"
    }
   ],
   "source": [
    "import numpy as np\n",
    "import matplotlib.pyplot as plt\n",
    "from scipy.stats import norm\n",
    "\n",
    "# Generate some random data\n",
    "data = np.random.normal(loc=0, scale=1, size=1000)\n",
    "\n",
    "# Create a histogram with 30 bins\n",
    "plt.hist(data, bins=30, density=True, alpha=0.6, color='g', label='Histogram')\n",
    "\n",
    "# Calculate the x values for the PDF\n",
    "xmin, xmax = plt.xlim()\n",
    "x = np.linspace(xmin, xmax, 100)\n",
    "\n",
    "# Plot the PDF\n",
    "p = norm.pdf(x, np.mean(data), np.std(data))\n",
    "plt.plot(x, p, 'k', linewidth=2, label='PDF')\n",
    "\n",
    "# Label the axes and set the title\n",
    "plt.xlabel('Value')\n",
    "plt.ylabel('Frequency/Probability')\n",
    "plt.title('Histogram with PDF Overlay')\n",
    "\n",
    "# Add a legend\n",
    "plt.legend()\n",
    "\n",
    "# Show the plot\n",
    "plt.show()"
   ]
  },
  {
   "cell_type": "markdown",
   "id": "c0d69ff8",
   "metadata": {},
   "source": [
    "16. Set the title of the plot as 'Histogram with PDF Overlay"
   ]
  },
  {
   "cell_type": "code",
   "execution_count": 25,
   "id": "2d4375f8",
   "metadata": {},
   "outputs": [
    {
     "data": {
      "text/plain": [
       "Text(0.5, 1.0, 'Histogram with PDF Overlay')"
      ]
     },
     "execution_count": 25,
     "metadata": {},
     "output_type": "execute_result"
    },
    {
     "data": {
      "image/png": "[encoded data removed]",
      "text/plain": [
       "<Figure size 640x480 with 1 Axes>"
      ]
     },
     "metadata": {},
     "output_type": "display_data"
    }
   ],
   "source": [
    "plt.title('Histogram with PDF Overlay')"
   ]
  },
  {
   "cell_type": "markdown",
   "id": "d05bea9f",
   "metadata": {},
   "source": [
    "17. Create a Seaborn scatter plot of two random arrays, color points based on their position relative to the\n",
    "origin (quadrants), add a legend, label the axes, and set the title as 'Quadrant-wise Scatter Plot'."
   ]
  },
  {
   "cell_type": "code",
   "execution_count": 26,
   "id": "a212698b",
   "metadata": {},
   "outputs": [
    {
     "data": {
      "image/png": "[encoded data removed]",
      "text/plain": [
       "<Figure size 640x480 with 1 Axes>"
      ]
     },
     "metadata": {},
     "output_type": "display_data"
    }
   ],
   "source": [
    "import seaborn as sns\n",
    "import matplotlib.pyplot as plt\n",
    "import numpy as np\n",
    "# Create two random arrays\n",
    "x = np.random.rand(50)\n",
    "y = np.random.rand(50)\n",
    "quadrants = np.zeros(50)\n",
    "quadrants[x > 0.5] = 1\n",
    "quadrants[y > 0.5] = 2\n",
    "quadrants[(x <= 0.5) & (y > 0.5)] = 3\n",
    "quadrants[(x <= 0.5) & (y <= 0.5)] = 4\n",
    "\n",
    "# Create a scatter plot with color based on the quadrant\n",
    "sns.scatterplot(x=x, y=y, hue=quadrants, palette=[\"blue\", \"green\", \"orange\", \"red\"])\n",
    "handles, labels = plt.gca().get_legend_handles_labels()\n",
    "handles.append(plt.Line2D([0], [0], color=\"black\", label=\"Quadrant I\"))\n",
    "handles.append(plt.Line2D([0], [0], color=\"black\", linestyle=\"--\", label=\"Quadrant II\"))\n",
    "handles.append(plt.Line2D([0], [0], color=\"black\", linestyle=\":\", label=\"Quadrant III\"))\n",
    "handles.append(plt.Line2D([0], [0], color=\"black\", label=\"Quadrant IV\"))\n",
    "plt.legend(handles=handles)\n",
    "\n",
    "# Label the axes and set the title\n",
    "plt.xlabel(\"X-axis\")\n",
    "plt.ylabel(\"Y-axis\")\n",
    "plt.title(\"Quadrant-wise Scatter Plot\")\n",
    "\n",
    "# Show the plot\n",
    "plt.show()"
   ]
  },
  {
   "cell_type": "markdown",
   "id": "79ef8c39",
   "metadata": {},
   "source": [
    "18. With Bokeh, plot a line chart of a sine wave function, add grid lines, label the axes, and set the title as 'Sine\n",
    "Wave Function"
   ]
  },
  {
   "cell_type": "code",
   "execution_count": 27,
   "id": "eb0cbbbd",
   "metadata": {},
   "outputs": [
    {
     "data": {
      "text/html": [
       "<style>\n",
       "        .bk-notebook-logo {\n",
       "            display: block;\n",
       "            width: 20px;\n",
       "            height: 20px;\n",
       "            background-image: url(data:image/png;base64,iVBORw0KGgoAAAANSUhEUgAAABQAAAAUCAYAAACNiR0NAAAABHNCSVQICAgIfAhkiAAAAAlwSFlzAAALEgAACxIB0t1+/AAAABx0RVh0U29mdHdhcmUAQWRvYmUgRmlyZXdvcmtzIENTNui8sowAAAOkSURBVDiNjZRtaJVlGMd/1/08zzln5zjP1LWcU9N0NkN8m2CYjpgQYQXqSs0I84OLIC0hkEKoPtiH3gmKoiJDU7QpLgoLjLIQCpEsNJ1vqUOdO7ppbuec5+V+rj4ctwzd8IIbbi6u+8f1539dt3A78eXC7QizUF7gyV1fD1Yqg4JWz84yffhm0qkFqBogB9rM8tZdtwVsPUhWhGcFJngGeWrPzHm5oaMmkfEg1usvLFyc8jLRqDOMru7AyC8saQr7GG7f5fvDeH7Ej8CM66nIF+8yngt6HWaKh7k49Soy9nXurCi1o3qUbS3zWfrYeQDTB/Qj6kX6Ybhw4B+bOYoLKCC9H3Nu/leUTZ1JdRWkkn2ldcCamzrcf47KKXdAJllSlxAOkRgyHsGC/zRday5Qld9DyoM4/q/rUoy/CXh3jzOu3bHUVZeU+DEn8FInkPBFlu3+nW3Nw0mk6vCDiWg8CeJaxEwuHS3+z5RgY+YBR6V1Z1nxSOfoaPa4LASWxxdNp+VWTk7+4vzaou8v8PN+xo+KY2xsw6une2frhw05CTYOmQvsEhjhWjn0bmXPjpE1+kplmmkP3suftwTubK9Vq22qKmrBhpY4jvd5afdRA3wGjFAgcnTK2s4hY0/GPNIb0nErGMCRxWOOX64Z8RAC4oCXdklmEvcL8o0BfkNK4lUg9HTl+oPlQxdNo3Mg4Nv175e/1LDGzZen30MEjRUtmXSfiTVu1kK8W4txyV6BMKlbgk3lMwYCiusNy9fVfvvwMxv8Ynl6vxoByANLTWplvuj/nF9m2+PDtt1eiHPBr1oIfhCChQMBw6Aw0UulqTKZdfVvfG7VcfIqLG9bcldL/+pdWTLxLUy8Qq38heUIjh4XlzZxzQm19lLFlr8vdQ97rjZVOLf8nclzckbcD4wxXMidpX30sFd37Fv/GtwwhzhxGVAprjbg0gCAEeIgwCZyTV2Z1REEW8O4py0wsjeloKoMr6iCY6dP92H6Vw/oTyICIthibxjm/DfN9lVz8IqtqKYLUXfoKVMVQVVJOElGjrnnUt9T9wbgp8AyYKaGlqingHZU/uG2NTZSVqwHQTWkx9hxjkpWDaCg6Ckj5qebgBVbT3V3NNXMSiWSDdGV3hrtzla7J+duwPOToIg42ChPQOQjspnSlp1V+Gjdged7+8UN5CRAV7a5EdFNwCjEaBR27b3W890TE7g24NAP/mMDXRWrGoFPQI9ls/MWO2dWFAar/xcOIImbbpA3zgAAAABJRU5ErkJggg==);\n",
       "        }\n",
       "    </style>\n",
       "    <div>\n",
       "        <a href=\"https://bokeh.org\" target=\"_blank\" class=\"bk-notebook-logo\"></a>\n",
       "        <span id=\"f57eeb39-2630-43ef-97d8-c2c1e2cf1f5b\">Loading BokehJS ...</span>\n",
       "    </div>\n"
      ]
     },
     "metadata": {},
     "output_type": "display_data"
    },
    {
     "data": {
      "application/javascript": "(function(root) {\n  function now() {\n    return new Date();\n  }\n\n  const force = true;\n\n  if (typeof root._bokeh_onload_callbacks === \"undefined\" || force === true) {\n    root._bokeh_onload_callbacks = [];\n    root._bokeh_is_loading = undefined;\n  }\n\nconst JS_MIME_TYPE = 'application/javascript';\n  const HTML_MIME_TYPE = 'text/html';\n  const EXEC_MIME_TYPE = 'application/vnd.bokehjs_exec.v0+json';\n  const CLASS_NAME = 'output_bokeh rendered_html';\n\n  /**\n   * Render data to the DOM node\n   */\n  function render(props, node) {\n    const script = document.createElement(\"script\");\n    node.appendChild(script);\n  }\n\n  /**\n   * Handle when an output is cleared or removed\n   */\n  function handleClearOutput(event, handle) {\n    const cell = handle.cell;\n\n    const id = cell.output_area._bokeh_element_id;\n    const server_id = cell.output_area._bokeh_server_id;\n    // Clean up Bokeh references\n    if (id != null && id in Bokeh.index) {\n      Bokeh.index[id].model.document.clear();\n      delete Bokeh.index[id];\n    }\n\n    if (server_id !== undefined) {\n      // Clean up Bokeh references\n      const cmd_clean = \"from bokeh.io.state import curstate; print(curstate().uuid_to_server['\" + server_id + \"'].get_sessions()[0].document.roots[0]._id)\";\n      cell.notebook.kernel.execute(cmd_clean, {\n        iopub: {\n          output: function(msg) {\n            const id = msg.content.text.trim();\n            if (id in Bokeh.index) {\n              Bokeh.index[id].model.document.clear();\n              delete Bokeh.index[id];\n            }\n          }\n        }\n      });\n      // Destroy server and session\n      const cmd_destroy = \"import bokeh.io.notebook as ion; ion.destroy_server('\" + server_id + \"')\";\n      cell.notebook.kernel.execute(cmd_destroy);\n    }\n  }\n\n  /**\n   * Handle when a new output is added\n   */\n  function handleAddOutput(event, handle) {\n    const output_area = handle.output_area;\n    const output = handle.output;\n\n    // limit handleAddOutput to display_data with EXEC_MIME_TYPE content only\n    if ((output.output_type != \"display_data\") || (!Object.prototype.hasOwnProperty.call(output.data, EXEC_MIME_TYPE))) {\n      return\n    }\n\n    const toinsert = output_area.element.find(\".\" + CLASS_NAME.split(' ')[0]);\n\n    if (output.metadata[EXEC_MIME_TYPE][\"id\"] !== undefined) {\n      toinsert[toinsert.length - 1].firstChild.textContent = output.data[JS_MIME_TYPE];\n      // store reference to embed id on output_area\n      output_area._bokeh_element_id = output.metadata[EXEC_MIME_TYPE][\"id\"];\n    }\n    if (output.metadata[EXEC_MIME_TYPE][\"server_id\"] !== undefined) {\n      const bk_div = document.createElement(\"div\");\n      bk_div.innerHTML = output.data[HTML_MIME_TYPE];\n      const script_attrs = bk_div.children[0].attributes;\n      for (let i = 0; i < script_attrs.length; i++) {\n        toinsert[toinsert.length - 1].firstChild.setAttribute(script_attrs[i].name, script_attrs[i].value);\n        toinsert[toinsert.length - 1].firstChild.textContent = bk_div.children[0].textContent\n      }\n      // store reference to server id on output_area\n      output_area._bokeh_server_id = output.metadata[EXEC_MIME_TYPE][\"server_id\"];\n    }\n  }\n\n  function register_renderer(events, OutputArea) {\n\n    function append_mime(data, metadata, element) {\n      // create a DOM node to render to\n      const toinsert = this.create_output_subarea(\n        metadata,\n        CLASS_NAME,\n        EXEC_MIME_TYPE\n      );\n      this.keyboard_manager.register_events(toinsert);\n      // Render to node\n      const props = {data: data, metadata: metadata[EXEC_MIME_TYPE]};\n      render(props, toinsert[toinsert.length - 1]);\n      element.append(toinsert);\n      return toinsert\n    }\n\n    /* Handle when an output is cleared or removed */\n    events.on('clear_output.CodeCell', handleClearOutput);\n    events.on('delete.Cell', handleClearOutput);\n\n    /* Handle when a new output is added */\n    events.on('output_added.OutputArea', handleAddOutput);\n\n    /**\n     * Register the mime type and append_mime function with output_area\n     */\n    OutputArea.prototype.register_mime_type(EXEC_MIME_TYPE, append_mime, {\n      /* Is output safe? */\n      safe: true,\n      /* Index of renderer in `output_area.display_order` */\n      index: 0\n    });\n  }\n\n  // register the mime type if in Jupyter Notebook environment and previously unregistered\n  if (root.Jupyter !== undefined) {\n    const events = require('base/js/events');\n    const OutputArea = require('notebook/js/outputarea').OutputArea;\n\n    if (OutputArea.prototype.mime_types().indexOf(EXEC_MIME_TYPE) == -1) {\n      register_renderer(events, OutputArea);\n    }\n  }\n  if (typeof (root._bokeh_timeout) === \"undefined\" || force === true) {\n    root._bokeh_timeout = Date.now() + 5000;\n    root._bokeh_failed_load = false;\n  }\n\n  const NB_LOAD_WARNING = {'data': {'text/html':\n     \"<div style='background-color: #fdd'>\\n\"+\n     \"<p>\\n\"+\n     \"BokehJS does not appear to have successfully loaded. If loading BokehJS from CDN, this \\n\"+\n     \"may be due to a slow or bad network connection. Possible fixes:\\n\"+\n     \"</p>\\n\"+\n     \"<ul>\\n\"+\n     \"<li>re-rerun `output_notebook()` to attempt to load from CDN again, or</li>\\n\"+\n     \"<li>use INLINE resources instead, as so:</li>\\n\"+\n     \"</ul>\\n\"+\n     \"<code>\\n\"+\n     \"from bokeh.resources import INLINE\\n\"+\n     \"output_notebook(resources=INLINE)\\n\"+\n     \"</code>\\n\"+\n     \"</div>\"}};\n\n  function display_loaded() {\n    const el = document.getElementById(\"f57eeb39-2630-43ef-97d8-c2c1e2cf1f5b\");\n    if (el != null) {\n      el.textContent = \"BokehJS is loading...\";\n    }\n    if (root.Bokeh !== undefined) {\n      if (el != null) {\n        el.textContent = \"BokehJS \" + root.Bokeh.version + \" successfully loaded.\";\n      }\n    } else if (Date.now() < root._bokeh_timeout) {\n      setTimeout(display_loaded, 100)\n    }\n  }\n\n  function run_callbacks() {\n    try {\n      root._bokeh_onload_callbacks.forEach(function(callback) {\n        if (callback != null)\n          callback();\n      });\n    } finally {\n      delete root._bokeh_onload_callbacks\n    }\n    console.debug(\"Bokeh: all callbacks have finished\");\n  }\n\n  function load_libs(css_urls, js_urls, callback) {\n    if (css_urls == null) css_urls = [];\n    if (js_urls == null) js_urls = [];\n\n    root._bokeh_onload_callbacks.push(callback);\n    if (root._bokeh_is_loading > 0) {\n      console.debug(\"Bokeh: BokehJS is being loaded, scheduling callback at\", now());\n      return null;\n    }\n    if (js_urls == null || js_urls.length === 0) {\n      run_callbacks();\n      return null;\n    }\n    console.debug(\"Bokeh: BokehJS not loaded, scheduling load and callback at\", now());\n    root._bokeh_is_loading = css_urls.length + js_urls.length;\n\n    function on_load() {\n      root._bokeh_is_loading--;\n      if (root._bokeh_is_loading === 0) {\n        console.debug(\"Bokeh: all BokehJS libraries/stylesheets loaded\");\n        run_callbacks()\n      }\n    }\n\n    function on_error(url) {\n      console.error(\"failed to load \" + url);\n    }\n\n    for (let i = 0; i < css_urls.length; i++) {\n      const url = css_urls[i];\n      const element = document.createElement(\"link\");\n      element.onload = on_load;\n      element.onerror = on_error.bind(null, url);\n      element.rel = \"stylesheet\";\n      element.type = \"text/css\";\n      element.href = url;\n      console.debug(\"Bokeh: injecting link tag for BokehJS stylesheet: \", url);\n      document.body.appendChild(element);\n    }\n\n    for (let i = 0; i < js_urls.length; i++) {\n      const url = js_urls[i];\n      const element = document.createElement('script');\n      element.onload = on_load;\n      element.onerror = on_error.bind(null, url);\n      element.async = false;\n      element.src = url;\n      console.debug(\"Bokeh: injecting script tag for BokehJS library: \", url);\n      document.head.appendChild(element);\n    }\n  };\n\n  function inject_raw_css(css) {\n    const element = document.createElement(\"style\");\n    element.appendChild(document.createTextNode(css));\n    document.body.appendChild(element);\n  }\n\n  const js_urls = [\"https://cdn.bokeh.org/bokeh/release/bokeh-3.2.1.min.js\", \"https://cdn.bokeh.org/bokeh/release/bokeh-gl-3.2.1.min.js\", \"https://cdn.bokeh.org/bokeh/release/bokeh-widgets-3.2.1.min.js\", \"https://cdn.bokeh.org/bokeh/release/bokeh-tables-3.2.1.min.js\", \"https://cdn.bokeh.org/bokeh/release/bokeh-mathjax-3.2.1.min.js\"];\n  const css_urls = [];\n\n  const inline_js = [    function(Bokeh) {\n      Bokeh.set_log_level(\"info\");\n    },\nfunction(Bokeh) {\n    }\n  ];\n\n  function run_inline_js() {\n    if (root.Bokeh !== undefined || force === true) {\n          for (let i = 0; i < inline_js.length; i++) {\n      inline_js[i].call(root, root.Bokeh);\n    }\nif (force === true) {\n        display_loaded();\n      }} else if (Date.now() < root._bokeh_timeout) {\n      setTimeout(run_inline_js, 100);\n    } else if (!root._bokeh_failed_load) {\n      console.log(\"Bokeh: BokehJS failed to load within specified timeout.\");\n      root._bokeh_failed_load = true;\n    } else if (force !== true) {\n      const cell = $(document.getElementById(\"f57eeb39-2630-43ef-97d8-c2c1e2cf1f5b\")).parents('.cell').data().cell;\n      cell.output_area.append_execute_result(NB_LOAD_WARNING)\n    }\n  }\n\n  if (root._bokeh_is_loading === 0) {\n    console.debug(\"Bokeh: BokehJS loaded, going straight to plotting\");\n    run_inline_js();\n  } else {\n    load_libs(css_urls, js_urls, function() {\n      console.debug(\"Bokeh: BokehJS plotting callback run at\", now());\n      run_inline_js();\n    });\n  }\n}(window));",
      "application/vnd.bokehjs_load.v0+json": ""
     },
     "metadata": {},
     "output_type": "display_data"
    },
    {
     "data": {
      "text/html": [
       "\n",
       "  <div id=\"e7cc1a59-c967-4add-9a51-b7f360439a67\" data-root-id=\"p1003\" style=\"display: contents;\"></div>\n"
      ]
     },
     "metadata": {},
     "output_type": "display_data"
    },
    {
     "data": {
      "application/javascript": "(function(root) {\n  function embed_document(root) {\n  const docs_json = {\"07abe10b-04f7-4c77-baa3-4d2646388e79\":{\"version\":\"3.2.1\",\"title\":\"Bokeh Application\",\"roots\":[{\"type\":\"object\",\"name\":\"Figure\",\"id\":\"p1003\",\"attributes\":{\"width\":400,\"height\":300,\"x_range\":{\"type\":\"object\",\"name\":\"Range1d\",\"id\":\"p1001\",\"attributes\":{\"end\":360}},\"y_range\":{\"type\":\"object\",\"name\":\"Range1d\",\"id\":\"p1002\",\"attributes\":{\"start\":-1.5,\"end\":1.5}},\"x_scale\":{\"type\":\"object\",\"name\":\"LinearScale\",\"id\":\"p1012\"},\"y_scale\":{\"type\":\"object\",\"name\":\"LinearScale\",\"id\":\"p1013\"},\"title\":{\"type\":\"object\",\"name\":\"Title\",\"id\":\"p1010\",\"attributes\":{\"text\":\"Sine Wave Function\"}},\"renderers\":[{\"type\":\"object\",\"name\":\"GlyphRenderer\",\"id\":\"p1037\",\"attributes\":{\"data_source\":{\"type\":\"object\",\"name\":\"ColumnDataSource\",\"id\":\"p1031\",\"attributes\":{\"selected\":{\"type\":\"object\",\"name\":\"Selection\",\"id\":\"p1032\",\"attributes\":{\"indices\":[],\"line_indices\":[]}},\"selection_policy\":{\"type\":\"object\",\"name\":\"UnionRenderers\",\"id\":\"p1033\"},\"data\":{\"type\":\"map\",\"entries\":[[\"x\",[0,1,2,3,4,5,6,7,8,9,10,11,12,13,14,15,16,17,18,19,20,21,22,23,24,25,26,27,28,29,30,31,32,33,34,35,36,37,38,39,40,41,42,43,44,45,46,47,48,49,50,51,52,53,54,55,56,57,58,59,60,61,62,63,64,65,66,67,68,69,70,71,72,73,74,75,76,77,78,79,80,81,82,83,84,85,86,87,88,89,90,91,92,93,94,95,96,97,98,99,100,101,102,103,104,105,106,107,108,109,110,111,112,113,114,115,116,117,118,119,120,121,122,123,124,125,126,127,128,129,130,131,132,133,134,135,136,137,138,139,140,141,142,143,144,145,146,147,148,149,150,151,152,153,154,155,156,157,158,159,160,161,162,163,164,165,166,167,168,169,170,171,172,173,174,175,176,177,178,179,180,181,182,183,184,185,186,187,188,189,190,191,192,193,194,195,196,197,198,199,200,201,202,203,204,205,206,207,208,209,210,211,212,213,214,215,216,217,218,219,220,221,222,223,224,225,226,227,228,229,230,231,232,233,234,235,236,237,238,239,240,241,242,243,244,245,246,247,248,249,250,251,252,253,254,255,256,257,258,259,260,261,262,263,264,265,266,267,268,269,270,271,272,273,274,275,276,277,278,279,280,281,282,283,284,285,286,287,288,289,290,291,292,293,294,295,296,297,298,299,300,301,302,303,304,305,306,307,308,309,310,311,312,313,314,315,316,317,318,319,320,321,322,323,324,325,326,327,328,329,330,331,332,333,334,335,336,337,338,339,340,341,342,343,344,345,346,347,348,349,350,351,352,353,354,355,356,357,358,359]],[\"y\",[0.0,0.01745240643728351,0.03489949670250097,0.05233595624294383,0.0697564737441253,0.08715574274765817,0.10452846326765346,0.12186934340514748,0.13917310096006544,0.15643446504023087,0.17364817766693033,0.1908089953765448,0.20791169081775931,0.224951054343865,0.24192189559966773,0.25881904510252074,0.27563735581699916,0.29237170472273677,0.3090169943749474,0.32556815445715664,0.3420201433256687,0.35836794954530027,0.374606593415912,0.3907311284892737,0.40673664307580015,0.42261826174069944,0.4383711467890774,0.45399049973954675,0.4694715627858908,0.48480962024633706,0.49999999999999994,0.5150380749100542,0.5299192642332049,0.5446390350150271,0.5591929034707469,0.573576436351046,0.5877852522924731,0.6018150231520483,0.6156614753256582,0.6293203910498374,0.6427876096865393,0.6560590289905072,0.6691306063588582,0.6819983600624985,0.6946583704589973,0.7071067811865476,0.7193398003386511,0.7313537016191705,0.7431448254773941,0.754709580222772,0.766044443118978,0.7771459614569708,0.788010753606722,0.7986355100472928,0.8090169943749475,0.8191520442889918,0.8290375725550417,0.8386705679454239,0.8480480961564261,0.8571673007021122,0.8660254037844386,0.8746197071393957,0.8829475928589269,0.8910065241883678,0.898794046299167,0.9063077870366499,0.9135454576426009,0.9205048534524403,0.9271838545667874,0.9335804264972017,0.9396926207859083,0.9455185755993167,0.9510565162951535,0.9563047559630354,0.9612616959383189,0.9659258262890683,0.9702957262759965,0.9743700647852352,0.9781476007338056,0.981627183447664,0.984807753012208,0.9876883405951378,0.9902680687415703,0.992546151641322,0.9945218953682733,0.9961946980917455,0.9975640502598242,0.9986295347545738,0.9993908270190958,0.9998476951563913,1.0,0.9998476951563913,0.9993908270190958,0.9986295347545738,0.9975640502598242,0.9961946980917455,0.9945218953682734,0.9925461516413221,0.9902680687415704,0.9876883405951377,0.984807753012208,0.981627183447664,0.9781476007338057,0.9743700647852352,0.9702957262759965,0.9659258262890683,0.9612616959383189,0.9563047559630355,0.9510565162951536,0.9455185755993168,0.9396926207859084,0.9335804264972017,0.9271838545667874,0.9205048534524404,0.913545457642601,0.90630778703665,0.8987940462991669,0.8910065241883679,0.8829475928589271,0.8746197071393959,0.8660254037844387,0.8571673007021123,0.8480480961564261,0.838670567945424,0.8290375725550417,0.819152044288992,0.8090169943749475,0.7986355100472927,0.788010753606722,0.777145961456971,0.766044443118978,0.7547095802227718,0.7431448254773942,0.7313537016191706,0.7193398003386514,0.7071067811865476,0.6946583704589971,0.6819983600624985,0.6691306063588583,0.6560590289905073,0.6427876096865395,0.6293203910498377,0.6156614753256584,0.6018150231520482,0.5877852522924732,0.5735764363510464,0.5591929034707469,0.5446390350150269,0.5299192642332049,0.5150380749100544,0.49999999999999994,0.48480962024633717,0.4694715627858911,0.45399049973954686,0.4383711467890773,0.4226182617406995,0.40673664307580043,0.39073112848927416,0.37460659341591224,0.3583679495453002,0.3420201433256689,0.32556815445715703,0.3090169943749475,0.29237170472273705,0.27563735581699966,0.258819045102521,0.24192189559966773,0.22495105434386478,0.20791169081775931,0.19080899537654497,0.17364817766693028,0.15643446504023098,0.13917310096006574,0.12186934340514755,0.10452846326765373,0.08715574274765864,0.06975647374412552,0.05233595624294381,0.0348994967025007,0.01745240643728344,1.2246467991473532e-16,-0.017452406437283192,-0.0348994967025009,-0.052335956242943564,-0.06975647374412483,-0.08715574274765794,-0.10452846326765305,-0.12186934340514774,-0.13917310096006552,-0.15643446504023073,-0.17364817766693047,-0.19080899537654472,-0.20791169081775907,-0.22495105434386498,-0.2419218955996675,-0.25881904510252035,-0.275637355816999,-0.2923717047227364,-0.30901699437494773,-0.32556815445715676,-0.34202014332566866,-0.35836794954530043,-0.374606593415912,-0.39073112848927355,-0.4067366430757998,-0.4226182617406993,-0.43837114678907707,-0.45399049973954625,-0.46947156278589086,-0.48480962024633695,-0.5000000000000001,-0.5150380749100542,-0.5299192642332048,-0.5446390350150271,-0.5591929034707467,-0.5735764363510458,-0.587785252292473,-0.601815023152048,-0.6156614753256578,-0.6293203910498376,-0.6427876096865393,-0.6560590289905074,-0.6691306063588582,-0.6819983600624984,-0.6946583704589973,-0.7071067811865475,-0.7193398003386509,-0.7313537016191701,-0.743144825477394,-0.7547095802227717,-0.7660444431189779,-0.7771459614569711,-0.7880107536067221,-0.7986355100472928,-0.8090169943749473,-0.8191520442889916,-0.8290375725550414,-0.8386705679454242,-0.848048096156426,-0.8571673007021121,-0.8660254037844385,-0.8746197071393959,-0.882947592858927,-0.8910065241883678,-0.8987940462991668,-0.9063077870366497,-0.913545457642601,-0.9205048534524403,-0.9271838545667873,-0.9335804264972016,-0.9396926207859082,-0.9455185755993168,-0.9510565162951535,-0.9563047559630353,-0.961261695938319,-0.9659258262890683,-0.9702957262759965,-0.9743700647852351,-0.9781476007338056,-0.9816271834476639,-0.984807753012208,-0.9876883405951377,-0.9902680687415704,-0.9925461516413221,-0.9945218953682734,-0.9961946980917455,-0.9975640502598242,-0.9986295347545738,-0.9993908270190957,-0.9998476951563913,-1.0,-0.9998476951563913,-0.9993908270190958,-0.9986295347545738,-0.9975640502598243,-0.9961946980917455,-0.9945218953682734,-0.992546151641322,-0.9902680687415704,-0.9876883405951378,-0.9848077530122081,-0.9816271834476641,-0.9781476007338058,-0.9743700647852352,-0.9702957262759966,-0.9659258262890682,-0.9612616959383188,-0.9563047559630354,-0.9510565162951536,-0.945518575599317,-0.9396926207859085,-0.9335804264972021,-0.9271838545667874,-0.9205048534524405,-0.9135454576426008,-0.9063077870366498,-0.898794046299167,-0.891006524188368,-0.8829475928589271,-0.8746197071393961,-0.8660254037844386,-0.8571673007021123,-0.8480480961564261,-0.8386705679454243,-0.8290375725550421,-0.8191520442889918,-0.8090169943749476,-0.798635510047293,-0.7880107536067218,-0.7771459614569708,-0.7660444431189781,-0.7547095802227722,-0.7431448254773946,-0.731353701619171,-0.7193398003386517,-0.7071067811865477,-0.6946583704589976,-0.6819983600624983,-0.6691306063588581,-0.6560590289905074,-0.6427876096865396,-0.6293203910498378,-0.6156614753256588,-0.6018150231520483,-0.5877852522924734,-0.5735764363510465,-0.5591929034707473,-0.544639035015027,-0.5299192642332058,-0.5150380749100545,-0.5000000000000004,-0.4848096202463369,-0.4694715627858908,-0.45399049973954697,-0.438371146789077,-0.4226182617407,-0.40673664307580015,-0.3907311284892747,-0.37460659341591235,-0.35836794954530077,-0.3420201433256686,-0.32556815445715753,-0.3090169943749477,-0.29237170472273627,-0.2756373558169998,-0.2588190451025207,-0.24192189559966787,-0.22495105434386534,-0.20791169081775987,-0.19080899537654467,-0.17364817766693127,-0.1564344650402311,-0.13917310096006588,-0.12186934340514811,-0.10452846326765342,-0.08715574274765832,-0.06975647374412476,-0.05233595624294437,-0.034899496702500823,-0.01745240643728445]]]}}},\"view\":{\"type\":\"object\",\"name\":\"CDSView\",\"id\":\"p1038\",\"attributes\":{\"filter\":{\"type\":\"object\",\"name\":\"AllIndices\",\"id\":\"p1039\"}}},\"glyph\":{\"type\":\"object\",\"name\":\"Line\",\"id\":\"p1034\",\"attributes\":{\"x\":{\"type\":\"field\",\"field\":\"x\"},\"y\":{\"type\":\"field\",\"field\":\"y\"},\"line_color\":\"navy\",\"line_width\":2}},\"nonselection_glyph\":{\"type\":\"object\",\"name\":\"Line\",\"id\":\"p1035\",\"attributes\":{\"x\":{\"type\":\"field\",\"field\":\"x\"},\"y\":{\"type\":\"field\",\"field\":\"y\"},\"line_color\":\"navy\",\"line_alpha\":0.1,\"line_width\":2}},\"muted_glyph\":{\"type\":\"object\",\"name\":\"Line\",\"id\":\"p1036\",\"attributes\":{\"x\":{\"type\":\"field\",\"field\":\"x\"},\"y\":{\"type\":\"field\",\"field\":\"y\"},\"line_color\":\"navy\",\"line_alpha\":0.2,\"line_width\":2}}}}],\"toolbar\":{\"type\":\"object\",\"name\":\"Toolbar\",\"id\":\"p1011\",\"attributes\":{\"tools\":[{\"type\":\"object\",\"name\":\"PanTool\",\"id\":\"p1024\"},{\"type\":\"object\",\"name\":\"WheelZoomTool\",\"id\":\"p1025\"},{\"type\":\"object\",\"name\":\"BoxZoomTool\",\"id\":\"p1026\",\"attributes\":{\"overlay\":{\"type\":\"object\",\"name\":\"BoxAnnotation\",\"id\":\"p1027\",\"attributes\":{\"syncable\":false,\"level\":\"overlay\",\"visible\":false,\"left_units\":\"canvas\",\"right_units\":\"canvas\",\"bottom_units\":\"canvas\",\"top_units\":\"canvas\",\"line_color\":\"black\",\"line_alpha\":1.0,\"line_width\":2,\"line_dash\":[4,4],\"fill_color\":\"lightgrey\",\"fill_alpha\":0.5}}}},{\"type\":\"object\",\"name\":\"SaveTool\",\"id\":\"p1028\"},{\"type\":\"object\",\"name\":\"ResetTool\",\"id\":\"p1029\"},{\"type\":\"object\",\"name\":\"HelpTool\",\"id\":\"p1030\"}]}},\"left\":[{\"type\":\"object\",\"name\":\"LinearAxis\",\"id\":\"p1019\",\"attributes\":{\"ticker\":{\"type\":\"object\",\"name\":\"BasicTicker\",\"id\":\"p1020\",\"attributes\":{\"mantissas\":[1,2,5]}},\"formatter\":{\"type\":\"object\",\"name\":\"BasicTickFormatter\",\"id\":\"p1021\"},\"axis_label\":\"Y-axis\",\"major_label_policy\":{\"type\":\"object\",\"name\":\"AllLabels\",\"id\":\"p1022\"}}}],\"below\":[{\"type\":\"object\",\"name\":\"LinearAxis\",\"id\":\"p1014\",\"attributes\":{\"ticker\":{\"type\":\"object\",\"name\":\"BasicTicker\",\"id\":\"p1015\",\"attributes\":{\"mantissas\":[1,2,5]}},\"formatter\":{\"type\":\"object\",\"name\":\"BasicTickFormatter\",\"id\":\"p1016\"},\"axis_label\":\"X-axis\",\"major_label_policy\":{\"type\":\"object\",\"name\":\"AllLabels\",\"id\":\"p1017\"}}}],\"center\":[{\"type\":\"object\",\"name\":\"Grid\",\"id\":\"p1018\",\"attributes\":{\"axis\":{\"id\":\"p1014\"},\"grid_line_color\":\"white\"}},{\"type\":\"object\",\"name\":\"Grid\",\"id\":\"p1023\",\"attributes\":{\"dimension\":1,\"axis\":{\"id\":\"p1019\"},\"grid_line_color\":\"white\"}},{\"type\":\"object\",\"name\":\"Legend\",\"id\":\"p1040\",\"attributes\":{\"items\":[{\"type\":\"object\",\"name\":\"LegendItem\",\"id\":\"p1041\",\"attributes\":{\"label\":{\"type\":\"value\",\"value\":\"Sine Wave\"},\"renderers\":[{\"id\":\"p1037\"}]}}]}}]}}]}};\n  const render_items = [{\"docid\":\"07abe10b-04f7-4c77-baa3-4d2646388e79\",\"roots\":{\"p1003\":\"e7cc1a59-c967-4add-9a51-b7f360439a67\"},\"root_ids\":[\"p1003\"]}];\n  root.Bokeh.embed.embed_items_notebook(docs_json, render_items);\n  }\n  if (root.Bokeh !== undefined) {\n    embed_document(root);\n  } else {\n    let attempts = 0;\n    const timer = setInterval(function(root) {\n      if (root.Bokeh !== undefined) {\n        clearInterval(timer);\n        embed_document(root);\n      } else {\n        attempts++;\n        if (attempts > 100) {\n          clearInterval(timer);\n          console.log(\"Bokeh: ERROR: Unable to run BokehJS code because BokehJS library is missing\");\n        }\n      }\n    }, 10, root)\n  }\n})(window);",
      "application/vnd.bokehjs_exec.v0+json": ""
     },
     "metadata": {
      "application/vnd.bokehjs_exec.v0+json": {
       "id": "p1003"
      }
     },
     "output_type": "display_data"
    }
   ],
   "source": [
    "from bokeh.io import show, output_notebook\n",
    "from bokeh.plotting import figure\n",
    "from bokeh.models import LinearAxis, Range1d\n",
    "from math import sin, pi\n",
    "\n",
    "output_notebook()\n",
    "\n",
    "x = list(range(0, 360))\n",
    "y = [sin(i * pi / 180) for i in x]\n",
    "\n",
    "p = figure(x_range=Range1d(0, 360), y_range=Range1d(-1.5, 1.5), height=300, width=400)\n",
    "p.line(x, y, legend_label=\"Sine Wave\", line_width=2, line_color=\"navy\")\n",
    "\n",
    "p.xaxis.axis_label = \"X-axis\"\n",
    "p.yaxis.axis_label = \"Y-axis\"\n",
    "p.title.text = \"Sine Wave Function\"\n",
    "\n",
    "p.xgrid.grid_line_color = \"white\"\n",
    "p.ygrid.grid_line_color = \"white\"\n",
    "\n",
    "show(p)"
   ]
  },
  {
   "cell_type": "markdown",
   "id": "0dccc917",
   "metadata": {},
   "source": [
    "19. Using Bokeh, generate a bar chart of randomly generated categorical data, color bars based on their\n",
    "values, add hover tooltips to display exact values, label the axes, and set the title as 'Random Categorical\n",
    "Bar Chart'8"
   ]
  },
  {
   "cell_type": "code",
   "execution_count": 32,
   "id": "5a562666",
   "metadata": {},
   "outputs": [
    {
     "name": "stdout",
     "output_type": "stream",
     "text": [
      "Requirement already satisfied: hvplot in c:\\users\\naiti\\anaconda3\\lib\\site-packages (0.8.4)\n",
      "Requirement already satisfied: bokeh>=1.0.0 in c:\\users\\naiti\\anaconda3\\lib\\site-packages (from hvplot) (3.2.1)\n",
      "Requirement already satisfied: colorcet>=2 in c:\\users\\naiti\\anaconda3\\lib\\site-packages (from hvplot) (3.0.1)\n",
      "Requirement already satisfied: holoviews>=1.11.0 in c:\\users\\naiti\\anaconda3\\lib\\site-packages (from hvplot) (1.17.1)\n",
      "Requirement already satisfied: pandas in c:\\users\\naiti\\anaconda3\\lib\\site-packages (from hvplot) (2.0.3)\n",
      "Requirement already satisfied: numpy>=1.15 in c:\\users\\naiti\\anaconda3\\lib\\site-packages (from hvplot) (1.24.3)\n",
      "Requirement already satisfied: packaging in c:\\users\\naiti\\anaconda3\\lib\\site-packages (from hvplot) (23.1)\n",
      "Requirement already satisfied: panel>=0.11.0 in c:\\users\\naiti\\anaconda3\\lib\\site-packages (from hvplot) (1.2.3)\n",
      "Requirement already satisfied: param>=1.9.0 in c:\\users\\naiti\\anaconda3\\lib\\site-packages (from hvplot) (1.13.0)\n",
      "Requirement already satisfied: Jinja2>=2.9 in c:\\users\\naiti\\anaconda3\\lib\\site-packages (from bokeh>=1.0.0->hvplot) (3.1.2)\n",
      "Requirement already satisfied: contourpy>=1 in c:\\users\\naiti\\anaconda3\\lib\\site-packages (from bokeh>=1.0.0->hvplot) (1.0.5)\n",
      "Requirement already satisfied: pillow>=7.1.0 in c:\\users\\naiti\\anaconda3\\lib\\site-packages (from bokeh>=1.0.0->hvplot) (9.4.0)\n",
      "Requirement already satisfied: PyYAML>=3.10 in c:\\users\\naiti\\anaconda3\\lib\\site-packages (from bokeh>=1.0.0->hvplot) (6.0)\n",
      "Requirement already satisfied: tornado>=5.1 in c:\\users\\naiti\\anaconda3\\lib\\site-packages (from bokeh>=1.0.0->hvplot) (6.3.2)\n",
      "Requirement already satisfied: xyzservices>=2021.09.1 in c:\\users\\naiti\\anaconda3\\lib\\site-packages (from bokeh>=1.0.0->hvplot) (2022.9.0)\n",
      "Requirement already satisfied: pyct>=0.4.4 in c:\\users\\naiti\\anaconda3\\lib\\site-packages (from colorcet>=2->hvplot) (0.5.0)\n",
      "Requirement already satisfied: pyviz-comms>=0.7.4 in c:\\users\\naiti\\anaconda3\\lib\\site-packages (from holoviews>=1.11.0->hvplot) (2.3.0)\n",
      "Requirement already satisfied: python-dateutil>=2.8.2 in c:\\users\\naiti\\anaconda3\\lib\\site-packages (from pandas->hvplot) (2.8.2)\n",
      "Requirement already satisfied: pytz>=2020.1 in c:\\users\\naiti\\anaconda3\\lib\\site-packages (from pandas->hvplot) (2023.3.post1)\n",
      "Requirement already satisfied: tzdata>=2022.1 in c:\\users\\naiti\\anaconda3\\lib\\site-packages (from pandas->hvplot) (2023.3)\n",
      "Requirement already satisfied: markdown in c:\\users\\naiti\\anaconda3\\lib\\site-packages (from panel>=0.11.0->hvplot) (3.4.1)\n",
      "Requirement already satisfied: markdown-it-py in c:\\users\\naiti\\anaconda3\\lib\\site-packages (from panel>=0.11.0->hvplot) (2.2.0)\n",
      "Requirement already satisfied: linkify-it-py in c:\\users\\naiti\\anaconda3\\lib\\site-packages (from panel>=0.11.0->hvplot) (2.0.0)\n",
      "Requirement already satisfied: mdit-py-plugins in c:\\users\\naiti\\anaconda3\\lib\\site-packages (from panel>=0.11.0->hvplot) (0.3.0)\n",
      "Requirement already satisfied: requests in c:\\users\\naiti\\anaconda3\\lib\\site-packages (from panel>=0.11.0->hvplot) (2.31.0)\n",
      "Requirement already satisfied: tqdm>=4.48.0 in c:\\users\\naiti\\anaconda3\\lib\\site-packages (from panel>=0.11.0->hvplot) (4.65.0)\n",
      "Requirement already satisfied: bleach in c:\\users\\naiti\\anaconda3\\lib\\site-packages (from panel>=0.11.0->hvplot) (4.1.0)\n",
      "Requirement already satisfied: typing-extensions in c:\\users\\naiti\\anaconda3\\lib\\site-packages (from panel>=0.11.0->hvplot) (4.7.1)\n",
      "Requirement already satisfied: MarkupSafe>=2.0 in c:\\users\\naiti\\anaconda3\\lib\\site-packages (from Jinja2>=2.9->bokeh>=1.0.0->hvplot) (2.1.1)\n",
      "Requirement already satisfied: six>=1.5 in c:\\users\\naiti\\anaconda3\\lib\\site-packages (from python-dateutil>=2.8.2->pandas->hvplot) (1.16.0)\n",
      "Requirement already satisfied: colorama in c:\\users\\naiti\\anaconda3\\lib\\site-packages (from tqdm>=4.48.0->panel>=0.11.0->hvplot) (0.4.6)\n",
      "Requirement already satisfied: webencodings in c:\\users\\naiti\\anaconda3\\lib\\site-packages (from bleach->panel>=0.11.0->hvplot) (0.5.1)\n",
      "Requirement already satisfied: uc-micro-py in c:\\users\\naiti\\anaconda3\\lib\\site-packages (from linkify-it-py->panel>=0.11.0->hvplot) (1.0.1)\n",
      "Requirement already satisfied: mdurl~=0.1 in c:\\users\\naiti\\anaconda3\\lib\\site-packages (from markdown-it-py->panel>=0.11.0->hvplot) (0.1.0)\n",
      "Requirement already satisfied: charset-normalizer<4,>=2 in c:\\users\\naiti\\anaconda3\\lib\\site-packages (from requests->panel>=0.11.0->hvplot) (2.0.4)\n",
      "Requirement already satisfied: idna<4,>=2.5 in c:\\users\\naiti\\anaconda3\\lib\\site-packages (from requests->panel>=0.11.0->hvplot) (3.4)\n",
      "Requirement already satisfied: urllib3<3,>=1.21.1 in c:\\users\\naiti\\anaconda3\\lib\\site-packages (from requests->panel>=0.11.0->hvplot) (1.26.16)\n",
      "Requirement already satisfied: certifi>=2017.4.17 in c:\\users\\naiti\\anaconda3\\lib\\site-packages (from requests->panel>=0.11.0->hvplot) (2023.7.22)\n"
     ]
    },
    {
     "ename": "ModuleNotFoundError",
     "evalue": "No module named 'jupyter_bokeh'",
     "output_type": "error",
     "traceback": [
      "\u001b[1;31m---------------------------------------------------------------------------\u001b[0m",
      "\u001b[1;31mModuleNotFoundError\u001b[0m                       Traceback (most recent call last)",
      "File \u001b[1;32mc:\\Users\\naiti\\anaconda3\\Lib\\site-packages\\IPython\\core\\formatters.py:974\u001b[0m, in \u001b[0;36mMimeBundleFormatter.__call__\u001b[1;34m(self, obj, include, exclude)\u001b[0m\n\u001b[0;32m    971\u001b[0m     method \u001b[38;5;241m=\u001b[39m get_real_method(obj, \u001b[38;5;28mself\u001b[39m\u001b[38;5;241m.\u001b[39mprint_method)\n\u001b[0;32m    973\u001b[0m     \u001b[38;5;28;01mif\u001b[39;00m method \u001b[38;5;129;01mis\u001b[39;00m \u001b[38;5;129;01mnot\u001b[39;00m \u001b[38;5;28;01mNone\u001b[39;00m:\n\u001b[1;32m--> 974\u001b[0m         \u001b[38;5;28;01mreturn\u001b[39;00m method(include\u001b[38;5;241m=\u001b[39minclude, exclude\u001b[38;5;241m=\u001b[39mexclude)\n\u001b[0;32m    975\u001b[0m     \u001b[38;5;28;01mreturn\u001b[39;00m \u001b[38;5;28;01mNone\u001b[39;00m\n\u001b[0;32m    976\u001b[0m \u001b[38;5;28;01melse\u001b[39;00m:\n",
      "File \u001b[1;32mc:\\Users\\naiti\\anaconda3\\Lib\\site-packages\\hvplot\\interactive.py:393\u001b[0m, in \u001b[0;36mInteractive._repr_mimebundle_\u001b[1;34m(self, include, exclude)\u001b[0m\n\u001b[0;32m    392\u001b[0m \u001b[38;5;28;01mdef\u001b[39;00m \u001b[38;5;21m_repr_mimebundle_\u001b[39m(\u001b[38;5;28mself\u001b[39m, include\u001b[38;5;241m=\u001b[39m[], exclude\u001b[38;5;241m=\u001b[39m[]):\n\u001b[1;32m--> 393\u001b[0m     \u001b[38;5;28;01mreturn\u001b[39;00m \u001b[38;5;28mself\u001b[39m\u001b[38;5;241m.\u001b[39mlayout()\u001b[38;5;241m.\u001b[39m_repr_mimebundle_()\n",
      "File \u001b[1;32mc:\\Users\\naiti\\anaconda3\\Lib\\site-packages\\panel\\viewable.py:771\u001b[0m, in \u001b[0;36mViewable._repr_mimebundle_\u001b[1;34m(self, include, exclude)\u001b[0m\n\u001b[0;32m    768\u001b[0m     loaded \u001b[38;5;241m=\u001b[39m hv\u001b[38;5;241m.\u001b[39mextension\u001b[38;5;241m.\u001b[39m_loaded\n\u001b[0;32m    770\u001b[0m \u001b[38;5;28;01mif\u001b[39;00m config\u001b[38;5;241m.\u001b[39mcomms \u001b[38;5;129;01min\u001b[39;00m (\u001b[38;5;124m'\u001b[39m\u001b[38;5;124mvscode\u001b[39m\u001b[38;5;124m'\u001b[39m, \u001b[38;5;124m'\u001b[39m\u001b[38;5;124mipywidgets\u001b[39m\u001b[38;5;124m'\u001b[39m):\n\u001b[1;32m--> 771\u001b[0m     widget \u001b[38;5;241m=\u001b[39m ipywidget(\u001b[38;5;28mself\u001b[39m)\n\u001b[0;32m    772\u001b[0m     \u001b[38;5;28;01mif\u001b[39;00m \u001b[38;5;28mhasattr\u001b[39m(widget, \u001b[38;5;124m'\u001b[39m\u001b[38;5;124m_repr_mimebundle_\u001b[39m\u001b[38;5;124m'\u001b[39m):\n\u001b[0;32m    773\u001b[0m         \u001b[38;5;28;01mreturn\u001b[39;00m widget\u001b[38;5;241m.\u001b[39m_repr_mimebundle_(include\u001b[38;5;241m=\u001b[39minclude, exclude\u001b[38;5;241m=\u001b[39mexclude), {}\n",
      "File \u001b[1;32mc:\\Users\\naiti\\anaconda3\\Lib\\site-packages\\panel\\io\\notebook.py:511\u001b[0m, in \u001b[0;36mipywidget\u001b[1;34m(obj, doc, **kwargs)\u001b[0m\n\u001b[0;32m    492\u001b[0m \u001b[38;5;28;01mdef\u001b[39;00m \u001b[38;5;21mipywidget\u001b[39m(obj: Any, doc\u001b[38;5;241m=\u001b[39m\u001b[38;5;28;01mNone\u001b[39;00m, \u001b[38;5;241m*\u001b[39m\u001b[38;5;241m*\u001b[39mkwargs: Any):\n\u001b[0;32m    493\u001b[0m \u001b[38;5;250m    \u001b[39m\u001b[38;5;124;03m\"\"\"\u001b[39;00m\n\u001b[0;32m    494\u001b[0m \u001b[38;5;124;03m    Returns an ipywidget model which renders the Panel object.\u001b[39;00m\n\u001b[0;32m    495\u001b[0m \n\u001b[1;32m   (...)\u001b[0m\n\u001b[0;32m    509\u001b[0m \u001b[38;5;124;03m    Returns an ipywidget model which renders the Panel object.\u001b[39;00m\n\u001b[0;32m    510\u001b[0m \u001b[38;5;124;03m    \"\"\"\u001b[39;00m\n\u001b[1;32m--> 511\u001b[0m     \u001b[38;5;28;01mfrom\u001b[39;00m \u001b[38;5;21;01mjupyter_bokeh\u001b[39;00m\u001b[38;5;21;01m.\u001b[39;00m\u001b[38;5;21;01mwidgets\u001b[39;00m \u001b[38;5;28;01mimport\u001b[39;00m BokehModel\n\u001b[0;32m    513\u001b[0m     \u001b[38;5;28;01mfrom\u001b[39;00m \u001b[38;5;21;01m.\u001b[39;00m\u001b[38;5;21;01m.\u001b[39;00m\u001b[38;5;21;01mpane\u001b[39;00m \u001b[38;5;28;01mimport\u001b[39;00m panel\n\u001b[0;32m    514\u001b[0m     doc \u001b[38;5;241m=\u001b[39m doc \u001b[38;5;28;01mif\u001b[39;00m doc \u001b[38;5;28;01melse\u001b[39;00m Document()\n",
      "\u001b[1;31mModuleNotFoundError\u001b[0m: No module named 'jupyter_bokeh'"
     ]
    },
    {
     "data": {
      "text/plain": [
       "<hvplot.interactive.Interactive at 0x1bc1ea63d90>"
      ]
     },
     "execution_count": 32,
     "metadata": {},
     "output_type": "execute_result"
    }
   ],
   "source": [
    "import pandas as pd\n",
    "!pip install hvplot\n",
    "import hvplot.pandas\n",
    "import panel as pn\n",
    "import holoviews as hv\n",
    "\n",
    "# Create a sample DataFrame\n",
    "df = pd.DataFrame({'cyl': [4, 6, 8, 4, 6, 8],\n",
    "                   'mpg': [20, 15, 10, 25, 18, 12],\n",
    "                   'origin': ['USA', 'USA', 'USA', 'Europe', 'Europe', 'Europe']})\n",
    "\n",
    "# Make DataFrame Pipeline Interactive\n",
    "idf = df.interactive()\n",
    "\n",
    "# Create a hvplot\n",
    "ihvplot = idf.hvplot.bar(x='origin', y='mpg', color='cyl')\n",
    "\n",
    "# Show the plot\n",
    "ihvplot"
   ]
  },
  {
   "cell_type": "markdown",
   "id": "62b35723",
   "metadata": {},
   "source": [
    "20. Using Plotly, create a basic line plot of a randomly generated dataset, label the axes, and set the title as\n",
    "'Simple Line Plot'8"
   ]
  },
  {
   "cell_type": "code",
   "execution_count": 33,
   "id": "a1245681",
   "metadata": {},
   "outputs": [
    {
     "data": {
      "application/vnd.plotly.v1+json": {
       "config": {
        "plotlyServerURL": "https://plot.ly"
       },
       "data": [
        {
         "mode": "lines",
         "name": "Random Data",
         "type": "scatter",
         "x": [
          0,
          0.4166666666666667,
          0.8333333333333334,
          1.25,
          1.6666666666666667,
          2.0833333333333335,
          2.5,
          2.916666666666667,
          3.3333333333333335,
          3.75,
          4.166666666666667,
          4.583333333333334,
          5,
          5.416666666666667,
          5.833333333333334,
          6.25,
          6.666666666666667,
          7.083333333333334,
          7.5,
          7.916666666666667,
          8.333333333333334,
          8.75,
          9.166666666666668,
          9.583333333333334,
          10
         ],
         "y": [
          0.07389105625415283,
          -0.35259136482799464,
          1.4882790806837702,
          0.5144442010001521,
          0.5018196489269657,
          -0.250454951660745,
          0.3917984875934405,
          -1.368916293289902,
          -0.7592342713282599,
          -1.2965858273101278,
          -0.11859064108275869,
          -1.4656230781693285,
          0.3281957136423161,
          0.7151761499796632,
          -0.7943462682731328,
          -1.4095983594474535,
          -0.6792511146621266,
          -0.03895278198214547,
          -0.6262071621630242,
          -0.4072136963034607,
          1.0796337532604672,
          2.250867076498538,
          -0.700914479210401,
          0.5337353697242441,
          1.0215621296652029
         ]
        }
       ],
       "layout": {
        "template": {
         "data": {
          "bar": [
           {
            "error_x": {
             "color": "#2a3f5f"
            },
            "error_y": {
             "color": "#2a3f5f"
            },
            "marker": {
             "line": {
              "color": "#E5ECF6",
              "width": 0.5
             },
             "pattern": {
              "fillmode": "overlay",
              "size": 10,
              "solidity": 0.2
             }
            },
            "type": "bar"
           }
          ],
          "barpolar": [
           {
            "marker": {
             "line": {
              "color": "#E5ECF6",
              "width": 0.5
             },
             "pattern": {
              "fillmode": "overlay",
              "size": 10,
              "solidity": 0.2
             }
            },
            "type": "barpolar"
           }
          ],
          "carpet": [
           {
            "aaxis": {
             "endlinecolor": "#2a3f5f",
             "gridcolor": "white",
             "linecolor": "white",
             "minorgridcolor": "white",
             "startlinecolor": "#2a3f5f"
            },
            "baxis": {
             "endlinecolor": "#2a3f5f",
             "gridcolor": "white",
             "linecolor": "white",
             "minorgridcolor": "white",
             "startlinecolor": "#2a3f5f"
            },
            "type": "carpet"
           }
          ],
          "choropleth": [
           {
            "colorbar": {
             "outlinewidth": 0,
             "ticks": ""
            },
            "type": "choropleth"
           }
          ],
          "contour": [
           {
            "colorbar": {
             "outlinewidth": 0,
             "ticks": ""
            },
            "colorscale": [
             [
              0,
              "#0d0887"
             ],
             [
              0.1111111111111111,
              "#46039f"
             ],
             [
              0.2222222222222222,
              "#7201a8"
             ],
             [
              0.3333333333333333,
              "#9c179e"
             ],
             [
              0.4444444444444444,
              "#bd3786"
             ],
             [
              0.5555555555555556,
              "#d8576b"
             ],
             [
              0.6666666666666666,
              "#ed7953"
             ],
             [
              0.7777777777777778,
              "#fb9f3a"
             ],
             [
              0.8888888888888888,
              "#fdca26"
             ],
             [
              1,
              "#f0f921"
             ]
            ],
            "type": "contour"
           }
          ],
          "contourcarpet": [
           {
            "colorbar": {
             "outlinewidth": 0,
             "ticks": ""
            },
            "type": "contourcarpet"
           }
          ],
          "heatmap": [
           {
            "colorbar": {
             "outlinewidth": 0,
             "ticks": ""
            },
            "colorscale": [
             [
              0,
              "#0d0887"
             ],
             [
              0.1111111111111111,
              "#46039f"
             ],
             [
              0.2222222222222222,
              "#7201a8"
             ],
             [
              0.3333333333333333,
              "#9c179e"
             ],
             [
              0.4444444444444444,
              "#bd3786"
             ],
             [
              0.5555555555555556,
              "#d8576b"
             ],
             [
              0.6666666666666666,
              "#ed7953"
             ],
             [
              0.7777777777777778,
              "#fb9f3a"
             ],
             [
              0.8888888888888888,
              "#fdca26"
             ],
             [
              1,
              "#f0f921"
             ]
            ],
            "type": "heatmap"
           }
          ],
          "heatmapgl": [
           {
            "colorbar": {
             "outlinewidth": 0,
             "ticks": ""
            },
            "colorscale": [
             [
              0,
              "#0d0887"
             ],
             [
              0.1111111111111111,
              "#46039f"
             ],
             [
              0.2222222222222222,
              "#7201a8"
             ],
             [
              0.3333333333333333,
              "#9c179e"
             ],
             [
              0.4444444444444444,
              "#bd3786"
             ],
             [
              0.5555555555555556,
              "#d8576b"
             ],
             [
              0.6666666666666666,
              "#ed7953"
             ],
             [
              0.7777777777777778,
              "#fb9f3a"
             ],
             [
              0.8888888888888888,
              "#fdca26"
             ],
             [
              1,
              "#f0f921"
             ]
            ],
            "type": "heatmapgl"
           }
          ],
          "histogram": [
           {
            "marker": {
             "pattern": {
              "fillmode": "overlay",
              "size": 10,
              "solidity": 0.2
             }
            },
            "type": "histogram"
           }
          ],
          "histogram2d": [
           {
            "colorbar": {
             "outlinewidth": 0,
             "ticks": ""
            },
            "colorscale": [
             [
              0,
              "#0d0887"
             ],
             [
              0.1111111111111111,
              "#46039f"
             ],
             [
              0.2222222222222222,
              "#7201a8"
             ],
             [
              0.3333333333333333,
              "#9c179e"
             ],
             [
              0.4444444444444444,
              "#bd3786"
             ],
             [
              0.5555555555555556,
              "#d8576b"
             ],
             [
              0.6666666666666666,
              "#ed7953"
             ],
             [
              0.7777777777777778,
              "#fb9f3a"
             ],
             [
              0.8888888888888888,
              "#fdca26"
             ],
             [
              1,
              "#f0f921"
             ]
            ],
            "type": "histogram2d"
           }
          ],
          "histogram2dcontour": [
           {
            "colorbar": {
             "outlinewidth": 0,
             "ticks": ""
            },
            "colorscale": [
             [
              0,
              "#0d0887"
             ],
             [
              0.1111111111111111,
              "#46039f"
             ],
             [
              0.2222222222222222,
              "#7201a8"
             ],
             [
              0.3333333333333333,
              "#9c179e"
             ],
             [
              0.4444444444444444,
              "#bd3786"
             ],
             [
              0.5555555555555556,
              "#d8576b"
             ],
             [
              0.6666666666666666,
              "#ed7953"
             ],
             [
              0.7777777777777778,
              "#fb9f3a"
             ],
             [
              0.8888888888888888,
              "#fdca26"
             ],
             [
              1,
              "#f0f921"
             ]
            ],
            "type": "histogram2dcontour"
           }
          ],
          "mesh3d": [
           {
            "colorbar": {
             "outlinewidth": 0,
             "ticks": ""
            },
            "type": "mesh3d"
           }
          ],
          "parcoords": [
           {
            "line": {
             "colorbar": {
              "outlinewidth": 0,
              "ticks": ""
             }
            },
            "type": "parcoords"
           }
          ],
          "pie": [
           {
            "automargin": true,
            "type": "pie"
           }
          ],
          "scatter": [
           {
            "fillpattern": {
             "fillmode": "overlay",
             "size": 10,
             "solidity": 0.2
            },
            "type": "scatter"
           }
          ],
          "scatter3d": [
           {
            "line": {
             "colorbar": {
              "outlinewidth": 0,
              "ticks": ""
             }
            },
            "marker": {
             "colorbar": {
              "outlinewidth": 0,
              "ticks": ""
             }
            },
            "type": "scatter3d"
           }
          ],
          "scattercarpet": [
           {
            "marker": {
             "colorbar": {
              "outlinewidth": 0,
              "ticks": ""
             }
            },
            "type": "scattercarpet"
           }
          ],
          "scattergeo": [
           {
            "marker": {
             "colorbar": {
              "outlinewidth": 0,
              "ticks": ""
             }
            },
            "type": "scattergeo"
           }
          ],
          "scattergl": [
           {
            "marker": {
             "colorbar": {
              "outlinewidth": 0,
              "ticks": ""
             }
            },
            "type": "scattergl"
           }
          ],
          "scattermapbox": [
           {
            "marker": {
             "colorbar": {
              "outlinewidth": 0,
              "ticks": ""
             }
            },
            "type": "scattermapbox"
           }
          ],
          "scatterpolar": [
           {
            "marker": {
             "colorbar": {
              "outlinewidth": 0,
              "ticks": ""
             }
            },
            "type": "scatterpolar"
           }
          ],
          "scatterpolargl": [
           {
            "marker": {
             "colorbar": {
              "outlinewidth": 0,
              "ticks": ""
             }
            },
            "type": "scatterpolargl"
           }
          ],
          "scatterternary": [
           {
            "marker": {
             "colorbar": {
              "outlinewidth": 0,
              "ticks": ""
             }
            },
            "type": "scatterternary"
           }
          ],
          "surface": [
           {
            "colorbar": {
             "outlinewidth": 0,
             "ticks": ""
            },
            "colorscale": [
             [
              0,
              "#0d0887"
             ],
             [
              0.1111111111111111,
              "#46039f"
             ],
             [
              0.2222222222222222,
              "#7201a8"
             ],
             [
              0.3333333333333333,
              "#9c179e"
             ],
             [
              0.4444444444444444,
              "#bd3786"
             ],
             [
              0.5555555555555556,
              "#d8576b"
             ],
             [
              0.6666666666666666,
              "#ed7953"
             ],
             [
              0.7777777777777778,
              "#fb9f3a"
             ],
             [
              0.8888888888888888,
              "#fdca26"
             ],
             [
              1,
              "#f0f921"
             ]
            ],
            "type": "surface"
           }
          ],
          "table": [
           {
            "cells": {
             "fill": {
              "color": "#EBF0F8"
             },
             "line": {
              "color": "white"
             }
            },
            "header": {
             "fill": {
              "color": "#C8D4E3"
             },
             "line": {
              "color": "white"
             }
            },
            "type": "table"
           }
          ]
         },
         "layout": {
          "annotationdefaults": {
           "arrowcolor": "#2a3f5f",
           "arrowhead": 0,
           "arrowwidth": 1
          },
          "autotypenumbers": "strict",
          "coloraxis": {
           "colorbar": {
            "outlinewidth": 0,
            "ticks": ""
           }
          },
          "colorscale": {
           "diverging": [
            [
             0,
             "#8e0152"
            ],
            [
             0.1,
             "#c51b7d"
            ],
            [
             0.2,
             "#de77ae"
            ],
            [
             0.3,
             "#f1b6da"
            ],
            [
             0.4,
             "#fde0ef"
            ],
            [
             0.5,
             "#f7f7f7"
            ],
            [
             0.6,
             "#e6f5d0"
            ],
            [
             0.7,
             "#b8e186"
            ],
            [
             0.8,
             "#7fbc41"
            ],
            [
             0.9,
             "#4d9221"
            ],
            [
             1,
             "#276419"
            ]
           ],
           "sequential": [
            [
             0,
             "#0d0887"
            ],
            [
             0.1111111111111111,
             "#46039f"
            ],
            [
             0.2222222222222222,
             "#7201a8"
            ],
            [
             0.3333333333333333,
             "#9c179e"
            ],
            [
             0.4444444444444444,
             "#bd3786"
            ],
            [
             0.5555555555555556,
             "#d8576b"
            ],
            [
             0.6666666666666666,
             "#ed7953"
            ],
            [
             0.7777777777777778,
             "#fb9f3a"
            ],
            [
             0.8888888888888888,
             "#fdca26"
            ],
            [
             1,
             "#f0f921"
            ]
           ],
           "sequentialminus": [
            [
             0,
             "#0d0887"
            ],
            [
             0.1111111111111111,
             "#46039f"
            ],
            [
             0.2222222222222222,
             "#7201a8"
            ],
            [
             0.3333333333333333,
             "#9c179e"
            ],
            [
             0.4444444444444444,
             "#bd3786"
            ],
            [
             0.5555555555555556,
             "#d8576b"
            ],
            [
             0.6666666666666666,
             "#ed7953"
            ],
            [
             0.7777777777777778,
             "#fb9f3a"
            ],
            [
             0.8888888888888888,
             "#fdca26"
            ],
            [
             1,
             "#f0f921"
            ]
           ]
          },
          "colorway": [
           "#636efa",
           "#EF553B",
           "#00cc96",
           "#ab63fa",
           "#FFA15A",
           "#19d3f3",
           "#FF6692",
           "#B6E880",
           "#FF97FF",
           "#FECB52"
          ],
          "font": {
           "color": "#2a3f5f"
          },
          "geo": {
           "bgcolor": "white",
           "lakecolor": "white",
           "landcolor": "#E5ECF6",
           "showlakes": true,
           "showland": true,
           "subunitcolor": "white"
          },
          "hoverlabel": {
           "align": "left"
          },
          "hovermode": "closest",
          "mapbox": {
           "style": "light"
          },
          "paper_bgcolor": "white",
          "plot_bgcolor": "#E5ECF6",
          "polar": {
           "angularaxis": {
            "gridcolor": "white",
            "linecolor": "white",
            "ticks": ""
           },
           "bgcolor": "#E5ECF6",
           "radialaxis": {
            "gridcolor": "white",
            "linecolor": "white",
            "ticks": ""
           }
          },
          "scene": {
           "xaxis": {
            "backgroundcolor": "#E5ECF6",
            "gridcolor": "white",
            "gridwidth": 2,
            "linecolor": "white",
            "showbackground": true,
            "ticks": "",
            "zerolinecolor": "white"
           },
           "yaxis": {
            "backgroundcolor": "#E5ECF6",
            "gridcolor": "white",
            "gridwidth": 2,
            "linecolor": "white",
            "showbackground": true,
            "ticks": "",
            "zerolinecolor": "white"
           },
           "zaxis": {
            "backgroundcolor": "#E5ECF6",
            "gridcolor": "white",
            "gridwidth": 2,
            "linecolor": "white",
            "showbackground": true,
            "ticks": "",
            "zerolinecolor": "white"
           }
          },
          "shapedefaults": {
           "line": {
            "color": "#2a3f5f"
           }
          },
          "ternary": {
           "aaxis": {
            "gridcolor": "white",
            "linecolor": "white",
            "ticks": ""
           },
           "baxis": {
            "gridcolor": "white",
            "linecolor": "white",
            "ticks": ""
           },
           "bgcolor": "#E5ECF6",
           "caxis": {
            "gridcolor": "white",
            "linecolor": "white",
            "ticks": ""
           }
          },
          "title": {
           "x": 0.05
          },
          "xaxis": {
           "automargin": true,
           "gridcolor": "white",
           "linecolor": "white",
           "ticks": "",
           "title": {
            "standoff": 15
           },
           "zerolinecolor": "white",
           "zerolinewidth": 2
          },
          "yaxis": {
           "automargin": true,
           "gridcolor": "white",
           "linecolor": "white",
           "ticks": "",
           "title": {
            "standoff": 15
           },
           "zerolinecolor": "white",
           "zerolinewidth": 2
          }
         }
        },
        "title": {
         "text": "Simple Line Plot"
        },
        "xaxis": {
         "title": {
          "text": "X-axis"
         }
        },
        "yaxis": {
         "title": {
          "text": "Y-axis"
         }
        }
       }
      }
     },
     "metadata": {},
     "output_type": "display_data"
    }
   ],
   "source": [
    "import plotly.graph_objects as go\n",
    "# Generate random data\n",
    "x = np.linspace(0, 10, 25)\n",
    "y = np.random.normal(size=25)\n",
    "\n",
    "# Create a trace for the line plot\n",
    "trace = go.Scatter(x=x, y=y, mode='lines', name='Random Data')\n",
    "\n",
    "# Set the layout with labeled axes and a title\n",
    "layout = go.Layout(title='Simple Line Plot',\n",
    "                   xaxis=dict(title='X-axis'),\n",
    "                   yaxis=dict(title='Y-axis'))\n",
    "\n",
    "# Create the figure and add the trace to it\n",
    "fig = go.Figure(data=[trace], layout=layout)\n",
    "\n",
    "# Display the figure\n",
    "fig.show()"
   ]
  },
  {
   "cell_type": "markdown",
   "id": "e390cd7b",
   "metadata": {},
   "source": [
    "21. Using Plotly, create an interactive pie chart of randomly generated data, add labels and percentages, set\n",
    "the title as 'Interactive Pie Chart'."
   ]
  },
  {
   "cell_type": "code",
   "execution_count": 34,
   "id": "085a293e",
   "metadata": {},
   "outputs": [
    {
     "data": {
      "application/vnd.plotly.v1+json": {
       "config": {
        "plotlyServerURL": "https://plot.ly"
       },
       "data": [
        {
         "labels": [
          "Label 0",
          "Label 1",
          "Label 2",
          "Label 3",
          "Label 4",
          "Label 5",
          "Label 6",
          "Label 7",
          "Label 8",
          "Label 9"
         ],
         "title": {
          "text": "Interactive Pie Chart"
         },
         "type": "pie",
         "values": [
          34,
          42,
          36,
          22,
          28,
          11,
          12,
          44,
          35,
          32
         ]
        }
       ],
       "layout": {
        "template": {
         "data": {
          "bar": [
           {
            "error_x": {
             "color": "#2a3f5f"
            },
            "error_y": {
             "color": "#2a3f5f"
            },
            "marker": {
             "line": {
              "color": "#E5ECF6",
              "width": 0.5
             },
             "pattern": {
              "fillmode": "overlay",
              "size": 10,
              "solidity": 0.2
             }
            },
            "type": "bar"
           }
          ],
          "barpolar": [
           {
            "marker": {
             "line": {
              "color": "#E5ECF6",
              "width": 0.5
             },
             "pattern": {
              "fillmode": "overlay",
              "size": 10,
              "solidity": 0.2
             }
            },
            "type": "barpolar"
           }
          ],
          "carpet": [
           {
            "aaxis": {
             "endlinecolor": "#2a3f5f",
             "gridcolor": "white",
             "linecolor": "white",
             "minorgridcolor": "white",
             "startlinecolor": "#2a3f5f"
            },
            "baxis": {
             "endlinecolor": "#2a3f5f",
             "gridcolor": "white",
             "linecolor": "white",
             "minorgridcolor": "white",
             "startlinecolor": "#2a3f5f"
            },
            "type": "carpet"
           }
          ],
          "choropleth": [
           {
            "colorbar": {
             "outlinewidth": 0,
             "ticks": ""
            },
            "type": "choropleth"
           }
          ],
          "contour": [
           {
            "colorbar": {
             "outlinewidth": 0,
             "ticks": ""
            },
            "colorscale": [
             [
              0,
              "#0d0887"
             ],
             [
              0.1111111111111111,
              "#46039f"
             ],
             [
              0.2222222222222222,
              "#7201a8"
             ],
             [
              0.3333333333333333,
              "#9c179e"
             ],
             [
              0.4444444444444444,
              "#bd3786"
             ],
             [
              0.5555555555555556,
              "#d8576b"
             ],
             [
              0.6666666666666666,
              "#ed7953"
             ],
             [
              0.7777777777777778,
              "#fb9f3a"
             ],
             [
              0.8888888888888888,
              "#fdca26"
             ],
             [
              1,
              "#f0f921"
             ]
            ],
            "type": "contour"
           }
          ],
          "contourcarpet": [
           {
            "colorbar": {
             "outlinewidth": 0,
             "ticks": ""
            },
            "type": "contourcarpet"
           }
          ],
          "heatmap": [
           {
            "colorbar": {
             "outlinewidth": 0,
             "ticks": ""
            },
            "colorscale": [
             [
              0,
              "#0d0887"
             ],
             [
              0.1111111111111111,
              "#46039f"
             ],
             [
              0.2222222222222222,
              "#7201a8"
             ],
             [
              0.3333333333333333,
              "#9c179e"
             ],
             [
              0.4444444444444444,
              "#bd3786"
             ],
             [
              0.5555555555555556,
              "#d8576b"
             ],
             [
              0.6666666666666666,
              "#ed7953"
             ],
             [
              0.7777777777777778,
              "#fb9f3a"
             ],
             [
              0.8888888888888888,
              "#fdca26"
             ],
             [
              1,
              "#f0f921"
             ]
            ],
            "type": "heatmap"
           }
          ],
          "heatmapgl": [
           {
            "colorbar": {
             "outlinewidth": 0,
             "ticks": ""
            },
            "colorscale": [
             [
              0,
              "#0d0887"
             ],
             [
              0.1111111111111111,
              "#46039f"
             ],
             [
              0.2222222222222222,
              "#7201a8"
             ],
             [
              0.3333333333333333,
              "#9c179e"
             ],
             [
              0.4444444444444444,
              "#bd3786"
             ],
             [
              0.5555555555555556,
              "#d8576b"
             ],
             [
              0.6666666666666666,
              "#ed7953"
             ],
             [
              0.7777777777777778,
              "#fb9f3a"
             ],
             [
              0.8888888888888888,
              "#fdca26"
             ],
             [
              1,
              "#f0f921"
             ]
            ],
            "type": "heatmapgl"
           }
          ],
          "histogram": [
           {
            "marker": {
             "pattern": {
              "fillmode": "overlay",
              "size": 10,
              "solidity": 0.2
             }
            },
            "type": "histogram"
           }
          ],
          "histogram2d": [
           {
            "colorbar": {
             "outlinewidth": 0,
             "ticks": ""
            },
            "colorscale": [
             [
              0,
              "#0d0887"
             ],
             [
              0.1111111111111111,
              "#46039f"
             ],
             [
              0.2222222222222222,
              "#7201a8"
             ],
             [
              0.3333333333333333,
              "#9c179e"
             ],
             [
              0.4444444444444444,
              "#bd3786"
             ],
             [
              0.5555555555555556,
              "#d8576b"
             ],
             [
              0.6666666666666666,
              "#ed7953"
             ],
             [
              0.7777777777777778,
              "#fb9f3a"
             ],
             [
              0.8888888888888888,
              "#fdca26"
             ],
             [
              1,
              "#f0f921"
             ]
            ],
            "type": "histogram2d"
           }
          ],
          "histogram2dcontour": [
           {
            "colorbar": {
             "outlinewidth": 0,
             "ticks": ""
            },
            "colorscale": [
             [
              0,
              "#0d0887"
             ],
             [
              0.1111111111111111,
              "#46039f"
             ],
             [
              0.2222222222222222,
              "#7201a8"
             ],
             [
              0.3333333333333333,
              "#9c179e"
             ],
             [
              0.4444444444444444,
              "#bd3786"
             ],
             [
              0.5555555555555556,
              "#d8576b"
             ],
             [
              0.6666666666666666,
              "#ed7953"
             ],
             [
              0.7777777777777778,
              "#fb9f3a"
             ],
             [
              0.8888888888888888,
              "#fdca26"
             ],
             [
              1,
              "#f0f921"
             ]
            ],
            "type": "histogram2dcontour"
           }
          ],
          "mesh3d": [
           {
            "colorbar": {
             "outlinewidth": 0,
             "ticks": ""
            },
            "type": "mesh3d"
           }
          ],
          "parcoords": [
           {
            "line": {
             "colorbar": {
              "outlinewidth": 0,
              "ticks": ""
             }
            },
            "type": "parcoords"
           }
          ],
          "pie": [
           {
            "automargin": true,
            "type": "pie"
           }
          ],
          "scatter": [
           {
            "fillpattern": {
             "fillmode": "overlay",
             "size": 10,
             "solidity": 0.2
            },
            "type": "scatter"
           }
          ],
          "scatter3d": [
           {
            "line": {
             "colorbar": {
              "outlinewidth": 0,
              "ticks": ""
             }
            },
            "marker": {
             "colorbar": {
              "outlinewidth": 0,
              "ticks": ""
             }
            },
            "type": "scatter3d"
           }
          ],
          "scattercarpet": [
           {
            "marker": {
             "colorbar": {
              "outlinewidth": 0,
              "ticks": ""
             }
            },
            "type": "scattercarpet"
           }
          ],
          "scattergeo": [
           {
            "marker": {
             "colorbar": {
              "outlinewidth": 0,
              "ticks": ""
             }
            },
            "type": "scattergeo"
           }
          ],
          "scattergl": [
           {
            "marker": {
             "colorbar": {
              "outlinewidth": 0,
              "ticks": ""
             }
            },
            "type": "scattergl"
           }
          ],
          "scattermapbox": [
           {
            "marker": {
             "colorbar": {
              "outlinewidth": 0,
              "ticks": ""
             }
            },
            "type": "scattermapbox"
           }
          ],
          "scatterpolar": [
           {
            "marker": {
             "colorbar": {
              "outlinewidth": 0,
              "ticks": ""
             }
            },
            "type": "scatterpolar"
           }
          ],
          "scatterpolargl": [
           {
            "marker": {
             "colorbar": {
              "outlinewidth": 0,
              "ticks": ""
             }
            },
            "type": "scatterpolargl"
           }
          ],
          "scatterternary": [
           {
            "marker": {
             "colorbar": {
              "outlinewidth": 0,
              "ticks": ""
             }
            },
            "type": "scatterternary"
           }
          ],
          "surface": [
           {
            "colorbar": {
             "outlinewidth": 0,
             "ticks": ""
            },
            "colorscale": [
             [
              0,
              "#0d0887"
             ],
             [
              0.1111111111111111,
              "#46039f"
             ],
             [
              0.2222222222222222,
              "#7201a8"
             ],
             [
              0.3333333333333333,
              "#9c179e"
             ],
             [
              0.4444444444444444,
              "#bd3786"
             ],
             [
              0.5555555555555556,
              "#d8576b"
             ],
             [
              0.6666666666666666,
              "#ed7953"
             ],
             [
              0.7777777777777778,
              "#fb9f3a"
             ],
             [
              0.8888888888888888,
              "#fdca26"
             ],
             [
              1,
              "#f0f921"
             ]
            ],
            "type": "surface"
           }
          ],
          "table": [
           {
            "cells": {
             "fill": {
              "color": "#EBF0F8"
             },
             "line": {
              "color": "white"
             }
            },
            "header": {
             "fill": {
              "color": "#C8D4E3"
             },
             "line": {
              "color": "white"
             }
            },
            "type": "table"
           }
          ]
         },
         "layout": {
          "annotationdefaults": {
           "arrowcolor": "#2a3f5f",
           "arrowhead": 0,
           "arrowwidth": 1
          },
          "autotypenumbers": "strict",
          "coloraxis": {
           "colorbar": {
            "outlinewidth": 0,
            "ticks": ""
           }
          },
          "colorscale": {
           "diverging": [
            [
             0,
             "#8e0152"
            ],
            [
             0.1,
             "#c51b7d"
            ],
            [
             0.2,
             "#de77ae"
            ],
            [
             0.3,
             "#f1b6da"
            ],
            [
             0.4,
             "#fde0ef"
            ],
            [
             0.5,
             "#f7f7f7"
            ],
            [
             0.6,
             "#e6f5d0"
            ],
            [
             0.7,
             "#b8e186"
            ],
            [
             0.8,
             "#7fbc41"
            ],
            [
             0.9,
             "#4d9221"
            ],
            [
             1,
             "#276419"
            ]
           ],
           "sequential": [
            [
             0,
             "#0d0887"
            ],
            [
             0.1111111111111111,
             "#46039f"
            ],
            [
             0.2222222222222222,
             "#7201a8"
            ],
            [
             0.3333333333333333,
             "#9c179e"
            ],
            [
             0.4444444444444444,
             "#bd3786"
            ],
            [
             0.5555555555555556,
             "#d8576b"
            ],
            [
             0.6666666666666666,
             "#ed7953"
            ],
            [
             0.7777777777777778,
             "#fb9f3a"
            ],
            [
             0.8888888888888888,
             "#fdca26"
            ],
            [
             1,
             "#f0f921"
            ]
           ],
           "sequentialminus": [
            [
             0,
             "#0d0887"
            ],
            [
             0.1111111111111111,
             "#46039f"
            ],
            [
             0.2222222222222222,
             "#7201a8"
            ],
            [
             0.3333333333333333,
             "#9c179e"
            ],
            [
             0.4444444444444444,
             "#bd3786"
            ],
            [
             0.5555555555555556,
             "#d8576b"
            ],
            [
             0.6666666666666666,
             "#ed7953"
            ],
            [
             0.7777777777777778,
             "#fb9f3a"
            ],
            [
             0.8888888888888888,
             "#fdca26"
            ],
            [
             1,
             "#f0f921"
            ]
           ]
          },
          "colorway": [
           "#636efa",
           "#EF553B",
           "#00cc96",
           "#ab63fa",
           "#FFA15A",
           "#19d3f3",
           "#FF6692",
           "#B6E880",
           "#FF97FF",
           "#FECB52"
          ],
          "font": {
           "color": "#2a3f5f"
          },
          "geo": {
           "bgcolor": "white",
           "lakecolor": "white",
           "landcolor": "#E5ECF6",
           "showlakes": true,
           "showland": true,
           "subunitcolor": "white"
          },
          "hoverlabel": {
           "align": "left"
          },
          "hovermode": "closest",
          "mapbox": {
           "style": "light"
          },
          "paper_bgcolor": "white",
          "plot_bgcolor": "#E5ECF6",
          "polar": {
           "angularaxis": {
            "gridcolor": "white",
            "linecolor": "white",
            "ticks": ""
           },
           "bgcolor": "#E5ECF6",
           "radialaxis": {
            "gridcolor": "white",
            "linecolor": "white",
            "ticks": ""
           }
          },
          "scene": {
           "xaxis": {
            "backgroundcolor": "#E5ECF6",
            "gridcolor": "white",
            "gridwidth": 2,
            "linecolor": "white",
            "showbackground": true,
            "ticks": "",
            "zerolinecolor": "white"
           },
           "yaxis": {
            "backgroundcolor": "#E5ECF6",
            "gridcolor": "white",
            "gridwidth": 2,
            "linecolor": "white",
            "showbackground": true,
            "ticks": "",
            "zerolinecolor": "white"
           },
           "zaxis": {
            "backgroundcolor": "#E5ECF6",
            "gridcolor": "white",
            "gridwidth": 2,
            "linecolor": "white",
            "showbackground": true,
            "ticks": "",
            "zerolinecolor": "white"
           }
          },
          "shapedefaults": {
           "line": {
            "color": "#2a3f5f"
           }
          },
          "ternary": {
           "aaxis": {
            "gridcolor": "white",
            "linecolor": "white",
            "ticks": ""
           },
           "baxis": {
            "gridcolor": "white",
            "linecolor": "white",
            "ticks": ""
           },
           "bgcolor": "#E5ECF6",
           "caxis": {
            "gridcolor": "white",
            "linecolor": "white",
            "ticks": ""
           }
          },
          "title": {
           "x": 0.05
          },
          "xaxis": {
           "automargin": true,
           "gridcolor": "white",
           "linecolor": "white",
           "ticks": "",
           "title": {
            "standoff": 15
           },
           "zerolinecolor": "white",
           "zerolinewidth": 2
          },
          "yaxis": {
           "automargin": true,
           "gridcolor": "white",
           "linecolor": "white",
           "ticks": "",
           "title": {
            "standoff": 15
           },
           "zerolinecolor": "white",
           "zerolinewidth": 2
          }
         }
        }
       }
      }
     },
     "metadata": {},
     "output_type": "display_data"
    }
   ],
   "source": [
    "import plotly.graph_objects as go\n",
    "import random\n",
    "labels = [f\"Label {i}\" for i in range(10)]\n",
    "values = [random.randint(10, 50) for _ in range(10)]\n",
    "fig = go.Figure(data=go.Pie(labels=labels, values=values, title='Interactive Pie Chart'))\n",
    "fig.show()"
   ]
  },
  {
   "cell_type": "code",
   "execution_count": null,
   "id": "a60f527d",
   "metadata": {},
   "outputs": [],
   "source": []
  }
 ],
 "metadata": {
  "kernelspec": {
   "display_name": "Python 3 (ipykernel)",
   "language": "python",
   "name": "python3"
  },
  "language_info": {
   "codemirror_mode": {
    "name": "ipython",
    "version": 3
   },
   "file_extension": ".py",
   "mimetype": "text/x-python",
   "name": "python",
   "nbconvert_exporter": "python",
   "pygments_lexer": "ipython3",
   "version": "3.11.5"
  }
 },
 "nbformat": 4,
 "nbformat_minor": 5
}
